{
 "cells": [
  {
   "cell_type": "code",
   "execution_count": 21,
   "metadata": {
    "collapsed": true,
    "ExecuteTime": {
     "end_time": "2024-01-24T21:12:43.908829900Z",
     "start_time": "2024-01-24T21:12:43.878748400Z"
    }
   },
   "outputs": [],
   "source": [
    "import pandas as pd\n",
    "import collections\n",
    "import random\n",
    "import numpy as np\n",
    "import matplotlib.pyplot as plt"
   ]
  },
  {
   "cell_type": "code",
   "execution_count": 39,
   "outputs": [
    {
     "data": {
      "text/plain": "Empty DataFrame\nColumns: [adaptive_mutation_type, context_type, added_patterns_mutations, selection_type, elitism_type, regularization_type, genetic_scheme_type, num_nodes, desired_degree, desired_cl, actual_degree, actual_cl]\nIndex: []",
      "text/html": "<div>\n<style scoped>\n    .dataframe tbody tr th:only-of-type {\n        vertical-align: middle;\n    }\n\n    .dataframe tbody tr th {\n        vertical-align: top;\n    }\n\n    .dataframe thead th {\n        text-align: right;\n    }\n</style>\n<table border=\"1\" class=\"dataframe\">\n  <thead>\n    <tr style=\"text-align: right;\">\n      <th></th>\n      <th>adaptive_mutation_type</th>\n      <th>context_type</th>\n      <th>added_patterns_mutations</th>\n      <th>selection_type</th>\n      <th>elitism_type</th>\n      <th>regularization_type</th>\n      <th>genetic_scheme_type</th>\n      <th>num_nodes</th>\n      <th>desired_degree</th>\n      <th>desired_cl</th>\n      <th>actual_degree</th>\n      <th>actual_cl</th>\n    </tr>\n  </thead>\n  <tbody>\n  </tbody>\n</table>\n</div>"
     },
     "execution_count": 39,
     "metadata": {},
     "output_type": "execute_result"
    }
   ],
   "source": [
    "df = pd.read_csv('CEC_2.csv')\n",
    "df = df.drop(columns=['Unnamed: 0'])\n",
    "\n",
    "df_new = pd.DataFrame(columns=df.columns)\n",
    "df_new"
   ],
   "metadata": {
    "collapsed": false,
    "ExecuteTime": {
     "end_time": "2024-01-25T12:39:38.638150100Z",
     "start_time": "2024-01-25T12:39:38.466648Z"
    }
   }
  },
  {
   "cell_type": "code",
   "execution_count": 40,
   "outputs": [],
   "source": [
    "df_new.to_csv('CEC_2.csv')"
   ],
   "metadata": {
    "collapsed": false,
    "ExecuteTime": {
     "end_time": "2024-01-25T12:40:03.099250300Z",
     "start_time": "2024-01-25T12:40:03.012898Z"
    }
   }
  },
  {
   "cell_type": "code",
   "execution_count": 57,
   "outputs": [],
   "source": [
    "df = pd.read_csv('CEC_2.csv')\n",
    "df=df.drop(columns='Unnamed: 0')\n",
    "df = df[(df['desired_degree']!=20) & (df['num_nodes']==30)]\n",
    "df.to_csv('CEC_new.csv')\n",
    "#654+187\n",
    "\n",
    "\n",
    "#duplicates = df.duplicated(subset=['num_nodes','desired_degree','desired_cl','adaptive_mutation_type'])"
   ],
   "metadata": {
    "collapsed": false,
    "ExecuteTime": {
     "end_time": "2024-01-26T08:34:34.345923200Z",
     "start_time": "2024-01-26T08:34:34.283425600Z"
    }
   }
  },
  {
   "cell_type": "code",
   "execution_count": 51,
   "outputs": [
    {
     "data": {
      "text/plain": "361.5"
     },
     "execution_count": 51,
     "metadata": {},
     "output_type": "execute_result"
    }
   ],
   "source": [
    "723/2"
   ],
   "metadata": {
    "collapsed": false,
    "ExecuteTime": {
     "end_time": "2024-01-25T21:06:27.339178100Z",
     "start_time": "2024-01-25T21:06:27.267031900Z"
    }
   }
  },
  {
   "cell_type": "code",
   "execution_count": 3,
   "outputs": [],
   "source": [
    "df_0 = df[(df['actual_cl']>0.14) & (df['actual_cl']<=0.16)]\n",
    "df_1 = df[(df['actual_cl']>0.16) & (df['actual_cl']<=0.20)]\n",
    "df_2 = df[(df['actual_cl']>0.20) & (df['actual_cl']<=0.21)]\n",
    "df_3 = df[(df['actual_cl']>0.21) & (df['actual_cl']<=0.22)]\n",
    "df_4 = df[(df['actual_cl']>0.22) & (df['actual_cl']<=0.23)]\n",
    "df_5 = df[(df['actual_cl']>0.23) & (df['actual_cl']<=0.24)]"
   ],
   "metadata": {
    "collapsed": false,
    "ExecuteTime": {
     "end_time": "2024-01-21T10:49:44.518449400Z",
     "start_time": "2024-01-21T10:49:44.473614600Z"
    }
   }
  },
  {
   "cell_type": "code",
   "execution_count": 4,
   "outputs": [],
   "source": [
    "def rename_adaptive(x):\n",
    "    if x=='bandit':\n",
    "        return 1\n",
    "    elif x=='context':\n",
    "        return 2\n",
    "    elif x=='default':\n",
    "        return 3\n",
    "def rename_selection(x):\n",
    "    if x=='spea2':\n",
    "        return 1\n",
    "    elif x=='tournament':\n",
    "        return 2\n",
    "def rename_elitism(x):\n",
    "    if x=='keep_n_best':\n",
    "        return 1\n",
    "    elif x=='none':\n",
    "        return 2\n",
    "    elif x=='replace_worst':\n",
    "        return 3\n",
    "def rename_regularization(x):\n",
    "    if x=='decremental':\n",
    "        return 1\n",
    "    elif x=='none':\n",
    "        return 2\n",
    "def rename_genetic_scheme(x):\n",
    "    if x=='generational':\n",
    "        return 1\n",
    "    elif x=='parameter_free':\n",
    "        return 2\n",
    "    elif x=='steady_state':\n",
    "        return 3\n",
    "    "
   ],
   "metadata": {
    "collapsed": false,
    "ExecuteTime": {
     "end_time": "2024-01-21T10:49:44.546437800Z",
     "start_time": "2024-01-21T10:49:44.505244600Z"
    }
   }
  },
  {
   "cell_type": "code",
   "execution_count": 11,
   "outputs": [
    {
     "name": "stdout",
     "output_type": "stream",
     "text": [
      "(211, 6) (211,)\n"
     ]
    }
   ],
   "source": [
    "list_0 = []\n",
    "y_list=[]\n",
    "for row in df_0.iterrows():\n",
    "    app = [rename_adaptive(row[1]['adaptive_mutation_type']),\n",
    "           int(row[1]['added_patterns_mutations']),\n",
    "           rename_selection(row[1]['selection_type']),\n",
    "           rename_elitism(row[1]['elitism_type']),\n",
    "           rename_regularization(row[1]['regularization_type']),\n",
    "           rename_genetic_scheme(row[1]['genetic_scheme_type'])]\n",
    "    list_0.append(app)\n",
    "    y_list.append(0)\n",
    "for row in df_1.iterrows():\n",
    "    app = [rename_adaptive(row[1]['adaptive_mutation_type']),\n",
    "           int(row[1]['added_patterns_mutations']),\n",
    "           rename_selection(row[1]['selection_type']),\n",
    "           rename_elitism(row[1]['elitism_type']),\n",
    "           rename_regularization(row[1]['regularization_type']),\n",
    "           rename_genetic_scheme(row[1]['genetic_scheme_type'])]\n",
    "    list_0.append(app)\n",
    "    y_list.append(1)\n",
    "for row in df_2.iterrows():\n",
    "    app = [rename_adaptive(row[1]['adaptive_mutation_type']),\n",
    "           int(row[1]['added_patterns_mutations']),\n",
    "           rename_selection(row[1]['selection_type']),\n",
    "           rename_elitism(row[1]['elitism_type']),\n",
    "           rename_regularization(row[1]['regularization_type']),\n",
    "           rename_genetic_scheme(row[1]['genetic_scheme_type'])]\n",
    "    list_0.append(app)\n",
    "    y_list.append(2)\n",
    "for row in df_3.iterrows():\n",
    "    app = [rename_adaptive(row[1]['adaptive_mutation_type']),\n",
    "           int(row[1]['added_patterns_mutations']),\n",
    "           rename_selection(row[1]['selection_type']),\n",
    "           rename_elitism(row[1]['elitism_type']),\n",
    "           rename_regularization(row[1]['regularization_type']),\n",
    "           rename_genetic_scheme(row[1]['genetic_scheme_type'])]\n",
    "    list_0.append(app)\n",
    "    y_list.append(3)\n",
    "for row in df_4.iterrows():\n",
    "    app = [rename_adaptive(row[1]['adaptive_mutation_type']),\n",
    "           int(row[1]['added_patterns_mutations']),\n",
    "           rename_selection(row[1]['selection_type']),\n",
    "           rename_elitism(row[1]['elitism_type']),\n",
    "           rename_regularization(row[1]['regularization_type']),\n",
    "           rename_genetic_scheme(row[1]['genetic_scheme_type'])]\n",
    "    list_0.append(app)\n",
    "    y_list.append(4)\n",
    "for row in df_5.iterrows():\n",
    "    app = [rename_adaptive(row[1]['adaptive_mutation_type']),\n",
    "           int(row[1]['added_patterns_mutations']),\n",
    "           rename_selection(row[1]['selection_type']),\n",
    "           rename_elitism(row[1]['elitism_type']),\n",
    "           rename_regularization(row[1]['regularization_type']),\n",
    "           rename_genetic_scheme(row[1]['genetic_scheme_type'])]\n",
    "    list_0.append(app)\n",
    "    y_list.append(5)\n",
    "X=np.array(list_0)\n",
    "y = np.array(y_list)\n",
    "print(X.shape, y.shape)\n"
   ],
   "metadata": {
    "collapsed": false,
    "ExecuteTime": {
     "end_time": "2024-01-21T11:00:00.749352900Z",
     "start_time": "2024-01-21T11:00:00.718107400Z"
    }
   }
  },
  {
   "cell_type": "code",
   "execution_count": 15,
   "outputs": [
    {
     "name": "stdout",
     "output_type": "stream",
     "text": [
      "0:\tlearn: 0.5530954\ttotal: 436us\tremaining: 436us\n",
      "1:\tlearn: 0.4562433\ttotal: 805us\tremaining: 0us\n"
     ]
    }
   ],
   "source": [
    "from catboost import CatBoostClassifier, Pool\n",
    "\n",
    "# initialize data\n",
    "train_data = X\n",
    "\n",
    "train_labels = y\n",
    "\n",
    "test_data = catboost_pool = Pool(train_data, \n",
    "                                 train_labels)\n",
    "\n",
    "model = CatBoostClassifier(iterations=2,\n",
    "                           depth=2,\n",
    "                           learning_rate=1,\n",
    "                           loss_function='MultiClass',\n",
    "                           verbose=True)\n",
    "# train the model\n",
    "model.fit(train_data, train_labels)\n",
    "# make the prediction using the resulting model\n",
    "\n",
    "feature_importance = model.feature_importances_\n"
   ],
   "metadata": {
    "collapsed": false,
    "ExecuteTime": {
     "end_time": "2024-01-21T11:17:00.612881300Z",
     "start_time": "2024-01-21T11:17:00.570239300Z"
    }
   }
  },
  {
   "cell_type": "code",
   "execution_count": 16,
   "outputs": [
    {
     "data": {
      "text/plain": "<Figure size 1200x600 with 1 Axes>",
      "image/png": "[encoded data removed]"
     },
     "metadata": {},
     "output_type": "display_data"
    }
   ],
   "source": [
    "feature_importances = model.get_feature_importance()\n",
    "# Assuming your dataset features are in a DataFrame `df`\n",
    "feature_names = ['adaptive_mutation_type', 'added_patterns_mutations', 'selection_type','elitism_type','regularization_type','genetic_scheme_type']\n",
    "\n",
    "importance_df = pd.DataFrame({'Feature': feature_names, 'Importance': feature_importances})\n",
    "importance_df = importance_df.sort_values(by='Importance', ascending=False)\n",
    "import matplotlib.pyplot as plt\n",
    "import seaborn as sns\n",
    "\n",
    "plt.figure(figsize=(12, 6))\n",
    "sns.barplot(x=\"Importance\", y=\"Feature\", data=importance_df)\n",
    "plt.title('CatBoost Features Importance')\n",
    "plt.show()\n"
   ],
   "metadata": {
    "collapsed": false,
    "ExecuteTime": {
     "end_time": "2024-01-21T11:20:31.650171600Z",
     "start_time": "2024-01-21T11:20:23.312668500Z"
    }
   }
  },
  {
   "cell_type": "code",
   "execution_count": 23,
   "outputs": [
    {
     "data": {
      "text/plain": "Counter({False: 36, True: 34})"
     },
     "execution_count": 23,
     "metadata": {},
     "output_type": "execute_result"
    }
   ],
   "source": [
    "import collections\n",
    "\n",
    "collections.Counter(df_0[df_0['genetic_scheme_type']=='parameter_free']['added_patterns_mutations'].tolist())"
   ],
   "metadata": {
    "collapsed": false,
    "ExecuteTime": {
     "end_time": "2024-01-21T11:28:34.849121300Z",
     "start_time": "2024-01-21T11:28:34.817809700Z"
    }
   }
  },
  {
   "cell_type": "code",
   "execution_count": null,
   "outputs": [],
   "source": [],
   "metadata": {
    "collapsed": false
   }
  },
  {
   "cell_type": "code",
   "execution_count": null,
   "outputs": [],
   "source": [],
   "metadata": {
    "collapsed": false
   }
  },
  {
   "cell_type": "code",
   "execution_count": null,
   "outputs": [],
   "source": [],
   "metadata": {
    "collapsed": false
   }
  },
  {
   "cell_type": "code",
   "execution_count": 58,
   "outputs": [
    {
     "data": {
      "text/plain": "Counter({'default': 48, 'bandit': 48, 'context': 45})"
     },
     "execution_count": 58,
     "metadata": {},
     "output_type": "execute_result"
    }
   ],
   "source": [
    "collections.Counter(df_0['adaptive_mutation_type'].tolist())\n",
    "#collections.Counter(df_5[df_5['genetic_scheme_type']=='generational']['added_patterns_mutations'].tolist())"
   ],
   "metadata": {
    "collapsed": false,
    "ExecuteTime": {
     "end_time": "2024-01-21T11:43:58.091420600Z",
     "start_time": "2024-01-21T11:43:58.071128Z"
    }
   }
  },
  {
   "cell_type": "code",
   "execution_count": 11,
   "outputs": [],
   "source": [
    "import pickle\n",
    "import numpy as np\n",
    "import pandas as pd\n"
   ],
   "metadata": {
    "collapsed": false,
    "ExecuteTime": {
     "end_time": "2024-01-18T12:47:56.083011700Z",
     "start_time": "2024-01-18T12:47:55.969753200Z"
    }
   }
  },
  {
   "cell_type": "code",
   "execution_count": 17,
   "outputs": [],
   "source": [
    "file = open('G_40_1.pickle', 'rb')\n",
    "ini = pickle.load(file)"
   ],
   "metadata": {
    "collapsed": false,
    "ExecuteTime": {
     "end_time": "2023-07-28T06:35:02.104023500Z",
     "start_time": "2023-07-28T06:35:02.087834800Z"
    }
   }
  },
  {
   "cell_type": "code",
   "execution_count": 20,
   "outputs": [
    {
     "ename": "AttributeError",
     "evalue": "module 'pickle' has no attribute '__version__'",
     "output_type": "error",
     "traceback": [
      "\u001B[1;31m---------------------------------------------------------------------------\u001B[0m",
      "\u001B[1;31mAttributeError\u001B[0m                            Traceback (most recent call last)",
      "Cell \u001B[1;32mIn[20], line 2\u001B[0m\n\u001B[0;32m      1\u001B[0m \u001B[38;5;28;01mimport\u001B[39;00m \u001B[38;5;21;01mpickle\u001B[39;00m\n\u001B[1;32m----> 2\u001B[0m \u001B[43mpickle\u001B[49m\u001B[38;5;241;43m.\u001B[39;49m\u001B[43m__version__\u001B[49m\n",
      "\u001B[1;31mAttributeError\u001B[0m: module 'pickle' has no attribute '__version__'"
     ]
    }
   ],
   "source": [
    "import pickle\n",
    "pickle.__version__"
   ],
   "metadata": {
    "collapsed": false,
    "ExecuteTime": {
     "end_time": "2023-07-28T06:36:30.295778600Z",
     "start_time": "2023-07-28T06:36:30.279775200Z"
    }
   }
  },
  {
   "cell_type": "code",
   "execution_count": 35,
   "outputs": [
    {
     "data": {
      "text/plain": "EdgeView([(0, 33), (0, 11), (0, 25), (0, 38), (0, 39), (0, 17), (0, 12), (0, 30), (0, 4), (0, 1), (0, 2), (0, 3), (0, 5), (0, 6), (0, 7), (0, 8), (0, 9), (0, 10), (0, 16), (0, 18), (0, 27), (0, 36), (1, 39), (1, 20), (1, 10), (1, 27), (1, 4), (1, 18), (1, 15), (1, 9), (1, 2), (1, 33), (1, 16), (1, 7), (1, 14), (1, 3), (1, 5), (1, 6), (1, 8), (1, 11), (1, 12), (1, 25), (1, 32), (2, 6), (2, 4), (2, 10), (2, 5), (2, 29), (2, 15), (2, 30), (2, 14), (2, 12), (2, 9), (2, 3), (2, 8), (2, 11), (2, 17), (2, 18), (2, 23), (2, 27), (2, 33), (2, 35), (2, 36), (2, 38), (3, 12), (3, 22), (3, 13), (3, 16), (3, 29), (3, 9), (3, 26), (3, 14), (3, 35), (3, 17), (3, 25), (3, 31), (3, 34), (3, 15), (3, 11), (3, 20), (3, 21), (3, 5), (3, 38), (3, 28), (3, 7), (3, 4), (3, 6), (3, 8), (3, 10), (3, 18), (3, 19), (3, 23), (3, 27), (3, 30), (3, 32), (4, 36), (4, 6), (4, 9), (4, 11), (4, 12), (4, 14), (4, 17), (4, 18), (4, 20), (4, 34), (4, 35), (5, 39), (5, 33), (5, 19), (5, 22), (5, 32), (5, 31), (5, 8), (5, 10), (5, 7), (5, 27), (5, 30), (5, 17), (5, 35), (5, 6), (5, 9), (5, 11), (5, 12), (5, 13), (5, 14), (5, 15), (5, 16), (5, 18), (5, 20), (5, 21), (5, 23), (5, 25), (5, 29), (5, 36), (5, 37), (5, 38), (6, 10), (6, 35), (6, 20), (6, 12), (6, 9), (6, 15), (6, 38), (6, 26), (6, 11), (6, 19), (6, 7), (6, 8), (6, 13), (6, 14), (6, 16), (6, 17), (6, 18), (6, 21), (6, 22), (6, 23), (6, 27), (6, 29), (6, 30), (6, 33), (6, 34), (6, 36), (6, 37), (6, 39), (7, 26), (7, 10), (7, 39), (7, 15), (7, 30), (7, 8), (7, 33), (7, 22), (7, 24), (7, 9), (7, 11), (7, 12), (7, 13), (7, 17), (7, 18), (7, 19), (7, 27), (7, 37), (7, 38), (8, 29), (8, 18), (8, 10), (8, 13), (8, 20), (8, 32), (8, 27), (8, 11), (8, 25), (8, 17), (8, 36), (8, 9), (8, 12), (8, 14), (8, 15), (8, 16), (8, 22), (8, 26), (8, 30), (8, 31), (8, 33), (8, 37), (8, 38), (8, 39), (9, 37), (9, 23), (9, 18), (9, 15), (9, 11), (9, 26), (9, 36), (9, 21), (9, 29), (9, 35), (9, 10), (9, 12), (9, 14), (9, 16), (9, 20), (9, 27), (9, 30), (9, 32), (9, 33), (9, 34), (9, 38), (9, 39), (10, 21), (10, 29), (10, 14), (10, 37), (10, 20), (10, 33), (10, 17), (10, 12), (10, 13), (10, 18), (10, 11), (10, 15), (10, 23), (10, 26), (10, 27), (10, 30), (10, 35), (10, 38), (10, 39), (11, 18), (11, 13), (11, 12), (11, 32), (11, 29), (11, 14), (11, 31), (11, 33), (11, 22), (11, 15), (11, 38), (11, 16), (11, 17), (11, 20), (11, 21), (11, 23), (11, 26), (11, 27), (11, 30), (11, 35), (11, 36), (11, 37), (11, 39), (12, 15), (12, 24), (12, 13), (12, 39), (12, 21), (12, 33), (12, 38), (12, 20), (12, 18), (12, 27), (12, 22), (12, 14), (12, 23), (12, 29), (12, 30), (12, 35), (12, 37), (13, 21), (13, 14), (13, 35), (13, 27), (13, 18), (13, 22), (13, 20), (13, 30), (14, 34), (14, 30), (14, 29), (14, 27), (14, 23), (14, 39), (14, 17), (14, 18), (14, 20), (14, 32), (15, 27), (15, 26), (15, 17), (15, 20), (15, 33), (15, 39), (16, 38), (16, 20), (16, 17), (16, 37), (16, 21), (16, 25), (16, 27), (16, 29), (16, 33), (17, 18), (17, 20), (17, 26), (17, 34), (17, 39), (17, 33), (17, 28), (17, 19), (17, 27), (17, 29), (17, 30), (17, 35), (18, 22), (18, 34), (18, 29), (18, 32), (18, 20), (18, 21), (18, 27), (18, 38), (18, 39), (18, 30), (18, 23), (18, 25), (18, 33), (18, 35), (18, 36), (19, 29), (19, 21), (19, 20), (19, 38), (19, 39), (20, 26), (20, 23), (20, 27), (20, 21), (20, 22), (20, 29), (20, 30), (20, 38), (20, 39), (21, 35), (21, 38), (21, 22), (21, 23), (21, 37), (22, 38), (22, 39), (22, 27), (22, 37), (23, 27), (23, 32), (23, 38), (24, 30), (25, 27), (26, 27), (26, 29), (26, 28), (27, 28), (27, 30), (27, 29), (27, 33), (27, 34), (27, 39), (29, 30), (29, 34), (29, 35), (29, 38), (30, 39), (33, 37), (33, 36), (33, 38), (33, 39), (35, 37), (36, 37), (36, 39), (37, 39), (37, 38), (38, 39)])"
     },
     "execution_count": 35,
     "metadata": {},
     "output_type": "execute_result"
    }
   ],
   "source": [
    "G = pickle.load(open('G_40_8.pickle', 'rb'))\n",
    "G.edges()"
   ],
   "metadata": {
    "collapsed": false,
    "ExecuteTime": {
     "end_time": "2023-07-28T06:58:29.679947100Z",
     "start_time": "2023-07-28T06:58:29.638789200Z"
    }
   }
  },
  {
   "cell_type": "code",
   "execution_count": 16,
   "outputs": [
    {
     "name": "stdout",
     "output_type": "stream",
     "text": [
      "[(0, 24), (0, 30), (0, 3), (0, 11), (0, 35), (0, 1), (0, 2), (0, 8), (0, 13), (0, 19), (0, 21), (0, 27), (0, 29), (0, 31), (0, 32), (0, 33), (0, 34), (0, 36), (0, 39), (1, 15), (1, 38), (1, 17), (1, 7), (1, 23), (1, 30), (1, 16), (1, 5), (1, 9), (1, 12), (1, 14), (1, 22), (1, 25), (1, 28), (1, 36), (1, 37), (2, 7), (2, 25), (2, 14), (2, 8), (2, 11), (2, 17), (2, 38), (2, 15), (2, 37), (2, 30), (2, 18), (2, 4), (2, 9), (2, 12), (2, 16), (2, 22), (2, 23), (2, 28), (2, 29), (2, 32), (2, 39), (3, 29), (3, 37), (3, 9), (3, 27), (3, 14), (3, 34), (3, 10), (3, 39), (3, 28), (3, 38), (3, 7), (3, 8), (3, 11), (3, 12), (3, 17), (3, 22), (3, 23), (3, 30), (4, 32), (4, 29), (4, 23), (4, 37), (4, 36), (4, 28), (4, 19), (4, 10), (4, 11), (4, 30), (4, 25), (4, 18), (4, 5), (4, 8), (4, 13), (4, 14), (4, 15), (4, 21), (4, 24), (4, 26), (4, 31), (4, 35), (5, 24), (5, 20), (5, 37), (5, 26), (5, 34), (5, 18), (5, 14), (5, 33), (5, 39), (5, 8), (5, 29), (5, 13), (5, 11), (5, 12), (5, 15), (5, 21), (5, 30), (5, 31), (5, 35), (6, 28), (6, 38), (6, 12), (6, 29), (6, 31), (6, 8), (6, 37), (6, 14), (6, 25), (6, 18), (6, 7), (6, 9), (6, 10), (6, 13), (6, 15), (6, 17), (6, 22), (6, 23), (6, 30), (6, 33), (6, 35), (7, 31), (7, 11), (7, 32), (7, 33), (7, 13), (7, 10), (7, 16), (7, 20), (7, 24), (7, 26), (7, 27), (7, 35), (7, 36), (8, 21), (8, 25), (8, 28), (8, 37), (8, 32), (8, 33), (8, 10), (8, 26), (8, 31), (8, 13), (8, 16), (8, 17), (8, 18), (8, 24), (8, 27), (8, 35), (8, 39), (9, 11), (9, 13), (9, 29), (9, 31), (9, 35), (9, 19), (9, 20), (9, 21), (9, 24), (9, 26), (9, 32), (9, 33), (9, 36), (10, 29), (10, 39), (10, 34), (10, 18), (10, 14), (10, 26), (10, 38), (10, 21), (10, 24), (10, 25), (10, 30), (10, 31), (10, 33), (10, 35), (10, 37), (11, 28), (11, 38), (11, 22), (11, 12), (11, 34), (11, 39), (11, 15), (11, 14), (11, 17), (11, 18), (11, 23), (11, 25), (11, 37), (12, 33), (12, 13), (12, 31), (12, 16), (12, 24), (12, 32), (12, 36), (12, 19), (12, 20), (12, 21), (12, 26), (12, 27), (12, 35), (12, 39), (13, 17), (13, 39), (13, 38), (13, 14), (13, 23), (13, 28), (13, 15), (13, 16), (13, 22), (13, 25), (13, 34), (14, 37), (14, 31), (14, 20), (14, 27), (14, 16), (14, 19), (14, 24), (14, 26), (14, 30), (14, 32), (14, 35), (14, 36), (15, 27), (15, 32), (15, 36), (15, 29), (15, 33), (15, 26), (15, 20), (15, 35), (15, 37), (15, 21), (15, 24), (15, 30), (15, 39), (16, 37), (16, 36), (16, 24), (16, 31), (16, 30), (16, 25), (16, 21), (16, 18), (16, 19), (16, 20), (16, 28), (16, 29), (16, 34), (16, 35), (17, 33), (17, 31), (17, 21), (17, 18), (17, 27), (17, 19), (17, 24), (17, 26), (17, 28), (17, 29), (17, 30), (17, 32), (18, 29), (18, 32), (18, 24), (18, 31), (18, 39), (18, 19), (18, 20), (18, 27), (18, 34), (18, 36), (19, 25), (19, 34), (19, 22), (19, 37), (19, 28), (19, 23), (19, 33), (19, 38), (19, 39), (20, 37), (20, 29), (20, 21), (20, 27), (20, 31), (20, 22), (20, 25), (20, 28), (20, 30), (20, 32), (20, 33), (20, 38), (20, 39), (21, 25), (21, 23), (21, 22), (21, 26), (21, 27), (21, 32), (21, 38), (22, 39), (22, 34), (22, 26), (22, 32), (22, 24), (22, 27), (22, 30), (22, 31), (22, 35), (22, 37), (23, 35), (23, 26), (23, 36), (23, 29), (23, 24), (23, 27), (23, 33), (23, 34), (24, 34), (24, 25), (24, 30), (24, 29), (24, 37), (24, 38), (24, 39), (25, 33), (25, 31), (25, 32), (25, 26), (25, 27), (25, 39), (25, 30), (25, 34), (25, 35), (26, 38), (26, 34), (26, 28), (26, 30), (26, 36), (27, 35), (27, 28), (27, 29), (27, 34), (27, 37), (28, 32), (28, 33), (28, 36), (28, 35), (28, 39), (29, 38), (29, 39), (29, 36), (29, 32), (30, 32), (30, 39), (30, 38), (31, 38), (31, 34), (31, 39), (31, 37), (32, 34), (32, 35), (32, 37), (32, 38), (33, 36), (33, 35), (33, 34), (33, 37), (33, 38), (34, 36), (34, 38), (34, 35), (35, 38), (35, 39), (36, 38), (36, 37), (36, 39), (37, 38)]\n",
      "[(0, 34), (0, 25), (0, 37), (0, 14), (0, 9), (0, 35), (0, 10), (0, 31), (0, 4), (0, 6), (0, 11), (0, 12), (0, 15), (0, 16), (0, 18), (0, 22), (0, 23), (0, 27), (0, 28), (0, 29), (0, 33), (0, 36), (1, 29), (1, 19), (1, 15), (1, 13), (1, 34), (1, 36), (1, 31), (1, 11), (1, 37), (1, 23), (1, 38), (1, 22), (1, 33), (1, 12), (1, 4), (1, 6), (1, 25), (1, 26), (1, 28), (2, 16), (2, 15), (2, 29), (2, 6), (2, 35), (2, 18), (2, 4), (2, 8), (2, 11), (2, 24), (2, 5), (2, 9), (2, 10), (2, 12), (2, 14), (2, 26), (2, 27), (2, 28), (2, 31), (2, 32), (2, 34), (3, 28), (3, 35), (3, 5), (3, 15), (3, 11), (3, 27), (3, 25), (3, 37), (3, 23), (3, 4), (3, 7), (3, 12), (3, 13), (3, 14), (3, 16), (3, 18), (3, 22), (3, 29), (3, 31), (3, 34), (3, 36), (4, 12), (4, 16), (4, 26), (4, 25), (4, 11), (4, 5), (4, 6), (4, 21), (4, 22), (4, 7), (4, 8), (4, 17), (4, 37), (5, 6), (5, 23), (5, 33), (5, 39), (5, 8), (5, 9), (5, 13), (5, 18), (5, 19), (5, 20), (5, 27), (5, 30), (5, 31), (5, 35), (5, 38), (6, 14), (6, 9), (6, 26), (6, 19), (6, 29), (6, 31), (6, 30), (6, 37), (6, 20), (6, 21), (6, 13), (6, 32), (6, 22), (6, 23), (6, 24), (6, 36), (6, 38), (6, 39), (7, 31), (7, 10), (7, 39), (7, 26), (7, 20), (7, 37), (7, 23), (7, 36), (7, 17), (7, 14), (7, 8), (7, 9), (7, 13), (7, 19), (7, 30), (7, 38), (8, 15), (8, 14), (8, 23), (8, 35), (8, 22), (8, 21), (8, 28), (8, 13), (8, 37), (8, 33), (8, 27), (8, 29), (8, 12), (8, 25), (8, 30), (8, 31), (8, 36), (9, 28), (9, 18), (9, 12), (9, 15), (9, 32), (9, 35), (9, 11), (9, 14), (9, 25), (9, 26), (9, 29), (9, 34), (9, 36), (9, 38), (10, 15), (10, 13), (10, 12), (10, 23), (10, 25), (10, 38), (10, 35), (10, 11), (10, 14), (10, 18), (10, 21), (10, 22), (10, 27), (10, 29), (10, 33), (10, 34), (10, 36), (11, 23), (11, 24), (11, 35), (11, 19), (11, 36), (11, 21), (11, 13), (11, 14), (11, 27), (11, 30), (11, 31), (11, 33), (11, 38), (11, 39), (12, 27), (12, 32), (12, 17), (12, 30), (12, 13), (12, 19), (12, 20), (12, 23), (12, 24), (12, 26), (12, 38), (12, 39), (13, 25), (13, 23), (13, 28), (13, 33), (13, 32), (13, 26), (13, 24), (13, 14), (13, 15), (13, 16), (13, 34), (14, 29), (14, 17), (14, 39), (14, 38), (14, 36), (14, 19), (14, 31), (14, 32), (14, 28), (14, 20), (14, 21), (14, 24), (14, 27), (14, 37), (15, 26), (15, 20), (15, 21), (15, 19), (15, 17), (15, 27), (15, 24), (15, 30), (15, 32), (15, 37), (15, 38), (15, 39), (16, 19), (16, 27), (16, 34), (16, 36), (16, 21), (16, 26), (16, 32), (16, 24), (16, 31), (16, 17), (16, 22), (16, 23), (16, 29), (16, 37), (16, 38), (16, 39), (17, 25), (17, 29), (17, 23), (17, 33), (17, 32), (17, 35), (17, 22), (17, 34), (17, 36), (17, 18), (17, 20), (17, 24), (17, 28), (17, 31), (18, 37), (18, 33), (18, 19), (18, 31), (18, 39), (18, 22), (18, 27), (18, 21), (18, 23), (18, 24), (18, 26), (18, 29), (18, 32), (18, 38), (19, 25), (19, 35), (19, 21), (19, 29), (19, 34), (19, 22), (19, 24), (19, 28), (19, 30), (19, 37), (20, 26), (20, 24), (20, 27), (20, 28), (20, 22), (20, 35), (20, 21), (20, 23), (20, 25), (20, 29), (20, 32), (20, 34), (20, 36), (21, 28), (21, 29), (21, 37), (21, 34), (21, 31), (21, 22), (21, 23), (21, 25), (21, 33), (21, 35), (21, 36), (22, 30), (22, 24), (22, 34), (22, 38), (22, 27), (22, 32), (22, 39), (23, 38), (23, 30), (23, 37), (24, 25), (24, 31), (24, 33), (24, 37), (24, 29), (24, 38), (25, 30), (25, 26), (25, 27), (25, 38), (25, 39), (26, 36), (26, 30), (26, 37), (26, 27), (26, 28), (26, 33), (26, 35), (27, 32), (27, 37), (27, 29), (27, 31), (27, 28), (27, 36), (28, 30), (28, 39), (28, 38), (28, 36), (29, 38), (29, 30), (29, 32), (29, 37), (29, 39), (30, 38), (30, 31), (30, 34), (30, 36), (31, 39), (31, 35), (31, 32), (31, 34), (32, 35), (32, 33), (32, 36), (33, 36), (33, 37), (33, 39), (33, 34), (34, 38), (34, 37), (34, 39), (35, 37), (35, 38), (35, 39), (36, 38), (36, 39)]\n",
      "[(0, 1), (0, 22), (0, 34), (0, 2), (0, 7), (0, 11), (0, 21), (0, 24), (0, 26), (0, 30), (0, 33), (1, 30), (1, 21), (1, 39), (1, 26), (1, 33), (1, 35), (1, 2), (1, 12), (1, 24), (1, 34), (2, 7), (2, 25), (2, 14), (2, 6), (2, 17), (2, 26), (2, 34), (2, 22), (2, 37), (2, 18), (2, 38), (2, 39), (2, 31), (2, 12), (2, 33), (2, 5), (2, 19), (2, 9), (2, 10), (2, 11), (2, 13), (2, 15), (2, 20), (2, 21), (2, 24), (2, 27), (2, 28), (2, 30), (2, 32), (2, 36), (3, 8), (3, 23), (3, 12), (3, 27), (3, 11), (3, 36), (3, 13), (3, 38), (3, 25), (3, 10), (3, 17), (3, 19), (3, 20), (3, 22), (3, 26), (3, 35), (4, 17), (4, 6), (4, 9), (4, 25), (4, 32), (4, 11), (4, 21), (5, 36), (5, 25), (5, 7), (5, 13), (5, 23), (5, 29), (5, 32), (5, 33), (6, 34), (6, 10), (6, 19), (6, 27), (6, 14), (6, 32), (6, 24), (6, 36), (6, 11), (6, 30), (6, 12), (6, 13), (6, 23), (6, 25), (6, 31), (7, 17), (7, 22), (7, 39), (7, 30), (7, 28), (7, 38), (7, 31), (7, 23), (7, 13), (7, 34), (7, 11), (7, 33), (7, 26), (7, 32), (7, 20), (7, 25), (7, 8), (7, 9), (7, 19), (7, 21), (7, 27), (7, 36), (7, 37), (8, 15), (8, 9), (8, 29), (8, 10), (8, 19), (8, 30), (8, 36), (8, 24), (8, 35), (8, 20), (8, 38), (8, 32), (8, 39), (8, 23), (8, 12), (8, 26), (8, 34), (8, 25), (8, 11), (8, 21), (8, 22), (8, 31), (8, 33), (9, 36), (9, 34), (9, 11), (9, 10), (9, 12), (9, 19), (9, 20), (9, 18), (9, 13), (9, 15), (9, 17), (9, 21), (9, 25), (9, 35), (10, 11), (10, 18), (10, 25), (10, 16), (10, 37), (10, 29), (10, 27), (10, 34), (10, 36), (10, 12), (10, 19), (10, 30), (10, 33), (10, 13), (10, 17), (10, 21), (11, 23), (11, 37), (11, 22), (11, 33), (11, 20), (11, 36), (11, 34), (11, 39), (11, 19), (11, 25), (11, 14), (11, 38), (11, 12), (11, 13), (11, 15), (11, 16), (11, 17), (11, 18), (11, 21), (11, 26), (11, 27), (11, 28), (11, 29), (11, 30), (11, 31), (11, 32), (12, 33), (12, 37), (12, 23), (12, 18), (12, 17), (12, 19), (12, 15), (12, 34), (12, 38), (12, 13), (12, 16), (12, 20), (12, 21), (12, 24), (12, 25), (12, 26), (12, 30), (12, 35), (12, 36), (13, 19), (13, 23), (13, 30), (13, 25), (13, 20), (13, 27), (13, 35), (13, 38), (13, 14), (13, 24), (13, 36), (13, 31), (13, 39), (13, 37), (13, 15), (13, 17), (13, 18), (13, 21), (13, 26), (13, 29), (13, 32), (14, 25), (14, 23), (14, 21), (14, 37), (14, 20), (14, 38), (14, 17), (14, 19), (14, 30), (14, 35), (15, 33), (15, 17), (15, 26), (15, 21), (15, 38), (15, 20), (15, 24), (15, 25), (15, 27), (15, 30), (15, 31), (15, 35), (15, 36), (16, 33), (16, 37), (16, 18), (16, 17), (16, 21), (17, 19), (17, 25), (17, 32), (17, 39), (17, 37), (17, 27), (17, 24), (17, 18), (17, 20), (17, 21), (17, 30), (17, 33), (17, 34), (18, 21), (18, 27), (18, 30), (19, 38), (19, 31), (19, 24), (19, 29), (19, 36), (19, 23), (19, 25), (19, 32), (19, 20), (19, 21), (19, 22), (19, 30), (19, 33), (19, 34), (19, 35), (19, 37), (20, 24), (20, 29), (20, 32), (20, 21), (20, 23), (20, 25), (20, 30), (20, 33), (20, 34), (20, 36), (20, 38), (20, 39), (21, 24), (21, 23), (21, 35), (21, 37), (21, 33), (21, 25), (21, 39), (21, 30), (21, 34), (21, 26), (21, 27), (21, 31), (21, 32), (21, 38), (22, 30), (22, 27), (22, 26), (22, 24), (22, 33), (22, 34), (22, 35), (22, 36), (23, 36), (23, 38), (23, 24), (23, 26), (23, 32), (24, 34), (24, 31), (24, 30), (24, 36), (24, 26), (24, 35), (24, 25), (24, 29), (25, 26), (25, 35), (25, 34), (25, 36), (25, 28), (25, 38), (25, 27), (25, 29), (25, 30), (25, 32), (25, 33), (25, 37), (25, 39), (26, 30), (26, 36), (26, 31), (26, 33), (26, 35), (27, 34), (27, 33), (27, 29), (27, 36), (27, 30), (27, 39), (28, 36), (29, 30), (29, 35), (29, 36), (29, 39), (30, 39), (30, 36), (30, 38), (30, 33), (30, 37), (30, 31), (30, 34), (32, 33), (32, 34), (32, 36), (32, 37), (32, 39), (33, 36), (33, 35), (33, 34), (33, 37), (33, 39), (34, 36), (34, 35), (34, 37), (34, 38), (35, 36), (36, 38), (36, 37), (37, 38)]\n",
      "[(0, 4), (0, 26), (0, 33), (0, 14), (0, 11), (0, 16), (0, 1), (0, 3), (0, 6), (0, 8), (0, 10), (0, 17), (0, 19), (0, 21), (0, 24), (0, 30), (0, 37), (0, 39), (1, 12), (1, 31), (1, 5), (1, 39), (1, 37), (1, 15), (1, 14), (1, 25), (1, 8), (1, 35), (1, 7), (1, 9), (1, 16), (1, 22), (1, 28), (1, 33), (1, 38), (2, 33), (2, 9), (2, 3), (2, 34), (2, 15), (2, 19), (2, 12), (2, 35), (2, 31), (2, 10), (2, 6), (2, 11), (2, 21), (2, 23), (2, 25), (2, 27), (2, 37), (2, 39), (3, 8), (3, 30), (3, 27), (3, 36), (3, 31), (3, 18), (3, 14), (3, 23), (3, 5), (3, 21), (3, 12), (3, 7), (3, 10), (3, 11), (3, 15), (3, 16), (3, 17), (3, 19), (3, 20), (3, 24), (3, 25), (3, 26), (3, 28), (3, 29), (3, 34), (3, 35), (3, 37), (4, 26), (4, 35), (4, 5), (4, 7), (4, 33), (4, 13), (4, 24), (4, 25), (4, 34), (4, 6), (4, 10), (4, 11), (4, 14), (4, 20), (4, 28), (4, 29), (4, 30), (5, 12), (5, 7), (5, 27), (5, 17), (5, 29), (5, 32), (5, 8), (5, 22), (5, 38), (5, 6), (5, 35), (5, 23), (5, 13), (5, 15), (5, 19), (5, 24), (5, 25), (5, 26), (5, 28), (5, 30), (5, 34), (5, 36), (5, 37), (6, 20), (6, 15), (6, 11), (6, 30), (6, 28), (6, 37), (6, 35), (6, 7), (6, 8), (6, 10), (6, 12), (6, 13), (6, 17), (6, 23), (6, 24), (6, 26), (6, 29), (6, 32), (6, 39), (7, 30), (7, 27), (7, 14), (7, 12), (7, 8), (7, 34), (7, 10), (7, 24), (7, 17), (7, 16), (7, 18), (7, 19), (7, 20), (7, 22), (7, 25), (7, 26), (7, 28), (7, 29), (7, 32), (7, 36), (7, 39), (8, 23), (8, 24), (8, 35), (8, 19), (8, 18), (8, 33), (8, 28), (8, 22), (8, 39), (8, 21), (8, 13), (8, 14), (8, 16), (8, 25), (8, 30), (8, 31), (8, 37), (8, 38), (9, 21), (9, 25), (9, 33), (9, 17), (9, 16), (9, 11), (9, 12), (9, 15), (9, 20), (9, 22), (9, 23), (9, 26), (9, 34), (9, 39), (10, 15), (10, 32), (10, 12), (10, 11), (10, 27), (10, 17), (10, 20), (10, 26), (10, 30), (10, 34), (11, 39), (11, 16), (11, 29), (11, 20), (11, 24), (11, 14), (11, 25), (11, 26), (11, 32), (11, 33), (11, 34), (12, 39), (12, 35), (12, 14), (12, 28), (12, 21), (12, 15), (12, 17), (12, 19), (12, 22), (12, 26), (12, 27), (12, 30), (12, 33), (12, 38), (13, 25), (13, 35), (13, 23), (13, 34), (13, 33), (13, 14), (13, 20), (13, 26), (14, 37), (14, 21), (14, 39), (14, 16), (14, 28), (14, 33), (14, 32), (14, 29), (14, 20), (14, 22), (14, 25), (14, 26), (14, 27), (14, 31), (14, 35), (14, 38), (15, 30), (15, 25), (15, 22), (15, 39), (15, 29), (15, 33), (15, 17), (15, 23), (15, 24), (15, 31), (15, 35), (16, 26), (16, 19), (16, 34), (16, 20), (16, 17), (16, 18), (16, 24), (16, 25), (16, 29), (16, 32), (16, 38), (17, 30), (17, 34), (17, 19), (17, 35), (17, 20), (17, 21), (17, 22), (17, 24), (17, 26), (17, 31), (17, 33), (18, 34), (18, 35), (18, 20), (18, 25), (18, 28), (19, 24), (19, 33), (19, 34), (19, 36), (19, 39), (20, 28), (20, 33), (20, 23), (20, 25), (20, 26), (20, 29), (20, 34), (20, 39), (21, 31), (21, 24), (21, 27), (21, 22), (21, 25), (21, 26), (21, 28), (21, 37), (22, 30), (22, 29), (22, 24), (22, 27), (23, 32), (23, 26), (23, 25), (23, 37), (23, 35), (23, 33), (23, 24), (23, 28), (23, 31), (23, 34), (23, 36), (23, 39), (24, 30), (24, 36), (24, 26), (24, 25), (24, 28), (24, 29), (24, 31), (24, 33), (24, 34), (24, 39), (25, 31), (25, 29), (25, 38), (25, 26), (25, 37), (25, 27), (25, 28), (25, 32), (25, 33), (25, 34), (25, 35), (25, 39), (26, 29), (26, 35), (26, 31), (26, 28), (26, 30), (26, 34), (26, 36), (26, 39), (27, 39), (27, 28), (27, 32), (27, 33), (27, 29), (27, 31), (28, 31), (28, 33), (28, 35), (28, 29), (28, 30), (28, 34), (28, 37), (28, 39), (29, 34), (29, 33), (29, 36), (29, 30), (29, 39), (29, 32), (29, 35), (30, 33), (30, 35), (30, 32), (30, 34), (31, 39), (31, 32), (31, 33), (31, 34), (31, 37), (31, 38), (32, 35), (33, 36), (33, 39), (33, 34), (33, 35), (34, 39), (34, 36), (34, 37), (34, 35), (35, 37), (35, 38), (36, 39), (37, 39)]\n",
      "[(0, 3), (0, 23), (0, 15), (0, 32), (0, 16), (0, 17), (0, 8), (0, 27), (0, 37), (0, 9), (0, 5), (0, 11), (0, 18), (0, 24), (0, 25), (0, 29), (0, 30), (0, 31), (0, 34), (0, 36), (0, 38), (0, 39), (1, 9), (1, 28), (1, 16), (1, 7), (1, 6), (1, 20), (1, 35), (1, 36), (1, 38), (1, 10), (1, 11), (1, 12), (1, 14), (1, 15), (1, 17), (1, 21), (1, 23), (1, 24), (1, 27), (1, 30), (1, 32), (1, 34), (1, 37), (2, 28), (2, 27), (2, 24), (2, 20), (2, 6), (2, 18), (2, 4), (2, 33), (2, 38), (2, 3), (2, 7), (2, 9), (2, 16), (2, 19), (2, 22), (2, 25), (2, 30), (2, 31), (2, 34), (2, 37), (2, 39), (3, 37), (3, 21), (3, 26), (3, 29), (3, 10), (3, 20), (3, 7), (3, 28), (3, 14), (3, 6), (3, 12), (3, 17), (3, 18), (3, 22), (3, 25), (3, 34), (3, 35), (3, 38), (4, 35), (4, 18), (4, 24), (4, 7), (4, 23), (4, 27), (4, 26), (4, 38), (4, 14), (4, 19), (4, 8), (4, 9), (4, 10), (4, 21), (4, 30), (4, 37), (5, 21), (5, 30), (5, 8), (5, 36), (5, 9), (5, 34), (5, 23), (5, 37), (5, 7), (5, 11), (5, 15), (5, 22), (5, 24), (5, 28), (5, 32), (5, 33), (5, 35), (5, 38), (5, 39), (6, 26), (6, 27), (6, 28), (6, 22), (6, 9), (6, 15), (6, 19), (6, 10), (6, 13), (6, 17), (6, 21), (6, 24), (6, 25), (6, 35), (6, 38), (7, 32), (7, 15), (7, 21), (7, 26), (7, 13), (7, 24), (7, 27), (7, 30), (7, 9), (7, 17), (7, 19), (7, 23), (7, 25), (7, 28), (7, 31), (7, 33), (7, 34), (7, 36), (8, 26), (8, 38), (8, 16), (8, 9), (8, 18), (8, 10), (8, 13), (8, 19), (8, 22), (8, 23), (8, 24), (8, 25), (8, 27), (8, 28), (8, 31), (8, 32), (8, 37), (9, 23), (9, 39), (9, 11), (9, 24), (9, 19), (9, 20), (9, 36), (9, 14), (9, 13), (9, 16), (9, 27), (9, 30), (9, 32), (9, 35), (9, 38), (10, 18), (10, 16), (10, 17), (10, 33), (10, 20), (10, 12), (10, 13), (10, 21), (10, 24), (10, 30), (10, 31), (10, 32), (10, 34), (10, 36), (10, 39), (11, 38), (11, 17), (11, 25), (11, 18), (11, 20), (11, 12), (11, 19), (11, 22), (11, 23), (11, 33), (11, 34), (11, 37), (12, 19), (12, 33), (12, 39), (12, 34), (12, 27), (12, 31), (12, 22), (12, 14), (12, 18), (12, 26), (12, 30), (12, 35), (12, 36), (13, 25), (13, 29), (13, 14), (13, 27), (13, 22), (13, 30), (13, 17), (13, 20), (13, 23), (13, 26), (13, 36), (13, 38), (14, 24), (14, 32), (14, 19), (14, 25), (14, 36), (14, 38), (14, 37), (14, 35), (14, 33), (14, 17), (14, 18), (14, 21), (14, 29), (14, 39), (15, 36), (15, 17), (15, 26), (15, 25), (15, 16), (15, 18), (15, 22), (15, 31), (15, 32), (15, 37), (16, 30), (16, 24), (16, 25), (16, 35), (16, 19), (16, 22), (16, 27), (16, 38), (16, 20), (16, 23), (16, 32), (16, 34), (16, 36), (17, 27), (17, 29), (17, 34), (17, 36), (17, 21), (17, 28), (17, 31), (17, 32), (17, 33), (17, 37), (17, 39), (18, 31), (18, 24), (18, 37), (18, 30), (18, 25), (18, 27), (18, 29), (18, 39), (19, 31), (19, 38), (19, 20), (19, 26), (19, 23), (19, 30), (19, 32), (19, 37), (20, 21), (20, 28), (20, 35), (20, 24), (20, 25), (20, 26), (20, 36), (20, 38), (20, 39), (21, 28), (21, 23), (21, 32), (21, 26), (21, 36), (21, 38), (21, 39), (21, 29), (21, 37), (21, 30), (21, 34), (22, 24), (22, 39), (22, 23), (22, 37), (22, 28), (22, 36), (23, 39), (23, 28), (23, 32), (23, 24), (23, 33), (23, 25), (23, 31), (23, 35), (24, 29), (24, 33), (24, 31), (24, 32), (24, 39), (24, 28), (24, 36), (24, 37), (24, 38), (25, 31), (25, 33), (25, 28), (25, 27), (25, 29), (25, 38), (25, 34), (25, 26), (25, 32), (25, 39), (26, 33), (26, 39), (26, 27), (26, 29), (26, 31), (26, 34), (26, 37), (27, 39), (27, 28), (27, 29), (27, 30), (27, 33), (27, 37), (28, 32), (28, 39), (28, 33), (28, 29), (28, 34), (29, 30), (29, 32), (29, 39), (30, 32), (30, 31), (30, 38), (30, 39), (31, 36), (31, 39), (32, 33), (32, 35), (32, 38), (32, 39), (32, 34), (32, 36), (33, 38), (33, 34), (33, 35), (34, 37), (34, 38), (34, 36), (34, 39), (35, 39), (35, 36), (35, 37), (36, 37), (36, 39), (37, 38), (38, 39)]\n"
     ]
    }
   ],
   "source": [
    "for i in range(1,6):\n",
    "    with open('G_40_'+str(i)+'.pickle', 'rb') as f:\n",
    "        G = pickle.load(f)\n",
    "    print(G.edges())"
   ],
   "metadata": {
    "collapsed": false,
    "ExecuteTime": {
     "end_time": "2023-07-28T06:33:35.619480600Z",
     "start_time": "2023-07-28T06:33:35.610479300Z"
    }
   }
  },
  {
   "cell_type": "code",
   "execution_count": 28,
   "outputs": [
    {
     "name": "stdout",
     "output_type": "stream",
     "text": [
      "[(0, 24), (0, 30), (0, 3), (0, 11), (0, 35), (0, 1), (0, 2), (0, 8), (0, 13), (0, 19), (0, 21), (0, 27), (0, 29), (0, 31), (0, 32), (0, 33), (0, 34), (0, 36), (0, 39), (1, 15), (1, 38), (1, 17), (1, 7), (1, 23), (1, 30), (1, 16), (1, 5), (1, 9), (1, 12), (1, 14), (1, 22), (1, 25), (1, 28), (1, 36), (1, 37), (2, 7), (2, 25), (2, 14), (2, 8), (2, 11), (2, 17), (2, 38), (2, 15), (2, 37), (2, 30), (2, 18), (2, 4), (2, 9), (2, 12), (2, 16), (2, 22), (2, 23), (2, 28), (2, 29), (2, 32), (2, 39), (3, 29), (3, 37), (3, 9), (3, 27), (3, 14), (3, 34), (3, 10), (3, 39), (3, 28), (3, 38), (3, 7), (3, 8), (3, 11), (3, 12), (3, 17), (3, 22), (3, 23), (3, 30), (4, 32), (4, 29), (4, 23), (4, 37), (4, 36), (4, 28), (4, 19), (4, 10), (4, 11), (4, 30), (4, 25), (4, 18), (4, 5), (4, 8), (4, 13), (4, 14), (4, 15), (4, 21), (4, 24), (4, 26), (4, 31), (4, 35), (5, 24), (5, 20), (5, 37), (5, 26), (5, 34), (5, 18), (5, 14), (5, 33), (5, 39), (5, 8), (5, 29), (5, 13), (5, 11), (5, 12), (5, 15), (5, 21), (5, 30), (5, 31), (5, 35), (6, 28), (6, 38), (6, 12), (6, 29), (6, 31), (6, 8), (6, 37), (6, 14), (6, 25), (6, 18), (6, 7), (6, 9), (6, 10), (6, 13), (6, 15), (6, 17), (6, 22), (6, 23), (6, 30), (6, 33), (6, 35), (7, 31), (7, 11), (7, 32), (7, 33), (7, 13), (7, 10), (7, 16), (7, 20), (7, 24), (7, 26), (7, 27), (7, 35), (7, 36), (8, 21), (8, 25), (8, 28), (8, 37), (8, 32), (8, 33), (8, 10), (8, 26), (8, 31), (8, 13), (8, 16), (8, 17), (8, 18), (8, 24), (8, 27), (8, 35), (8, 39), (9, 11), (9, 13), (9, 29), (9, 31), (9, 35), (9, 19), (9, 20), (9, 21), (9, 24), (9, 26), (9, 32), (9, 33), (9, 36), (10, 29), (10, 39), (10, 34), (10, 18), (10, 14), (10, 26), (10, 38), (10, 21), (10, 24), (10, 25), (10, 30), (10, 31), (10, 33), (10, 35), (10, 37), (11, 28), (11, 38), (11, 22), (11, 12), (11, 34), (11, 39), (11, 15), (11, 14), (11, 17), (11, 18), (11, 23), (11, 25), (11, 37), (12, 33), (12, 13), (12, 31), (12, 16), (12, 24), (12, 32), (12, 36), (12, 19), (12, 20), (12, 21), (12, 26), (12, 27), (12, 35), (12, 39), (13, 17), (13, 39), (13, 38), (13, 14), (13, 23), (13, 28), (13, 15), (13, 16), (13, 22), (13, 25), (13, 34), (14, 37), (14, 31), (14, 20), (14, 27), (14, 16), (14, 19), (14, 24), (14, 26), (14, 30), (14, 32), (14, 35), (14, 36), (15, 27), (15, 32), (15, 36), (15, 29), (15, 33), (15, 26), (15, 20), (15, 35), (15, 37), (15, 21), (15, 24), (15, 30), (15, 39), (16, 37), (16, 36), (16, 24), (16, 31), (16, 30), (16, 25), (16, 21), (16, 18), (16, 19), (16, 20), (16, 28), (16, 29), (16, 34), (16, 35), (17, 33), (17, 31), (17, 21), (17, 18), (17, 27), (17, 19), (17, 24), (17, 26), (17, 28), (17, 29), (17, 30), (17, 32), (18, 29), (18, 32), (18, 24), (18, 31), (18, 39), (18, 19), (18, 20), (18, 27), (18, 34), (18, 36), (19, 25), (19, 34), (19, 22), (19, 37), (19, 28), (19, 23), (19, 33), (19, 38), (19, 39), (20, 37), (20, 29), (20, 21), (20, 27), (20, 31), (20, 22), (20, 25), (20, 28), (20, 30), (20, 32), (20, 33), (20, 38), (20, 39), (21, 25), (21, 23), (21, 22), (21, 26), (21, 27), (21, 32), (21, 38), (22, 39), (22, 34), (22, 26), (22, 32), (22, 24), (22, 27), (22, 30), (22, 31), (22, 35), (22, 37), (23, 35), (23, 26), (23, 36), (23, 29), (23, 24), (23, 27), (23, 33), (23, 34), (24, 34), (24, 25), (24, 30), (24, 29), (24, 37), (24, 38), (24, 39), (25, 33), (25, 31), (25, 32), (25, 26), (25, 27), (25, 39), (25, 30), (25, 34), (25, 35), (26, 38), (26, 34), (26, 28), (26, 30), (26, 36), (27, 35), (27, 28), (27, 29), (27, 34), (27, 37), (28, 32), (28, 33), (28, 36), (28, 35), (28, 39), (29, 38), (29, 39), (29, 36), (29, 32), (30, 32), (30, 39), (30, 38), (31, 38), (31, 34), (31, 39), (31, 37), (32, 34), (32, 35), (32, 37), (32, 38), (33, 36), (33, 35), (33, 34), (33, 37), (33, 38), (34, 36), (34, 38), (34, 35), (35, 38), (35, 39), (36, 38), (36, 37), (36, 39), (37, 38)]\n",
      "[(0, 34), (0, 25), (0, 37), (0, 14), (0, 9), (0, 35), (0, 10), (0, 31), (0, 4), (0, 6), (0, 11), (0, 12), (0, 15), (0, 16), (0, 18), (0, 22), (0, 23), (0, 27), (0, 28), (0, 29), (0, 33), (0, 36), (1, 29), (1, 19), (1, 15), (1, 13), (1, 34), (1, 36), (1, 31), (1, 11), (1, 37), (1, 23), (1, 38), (1, 22), (1, 33), (1, 12), (1, 4), (1, 6), (1, 25), (1, 26), (1, 28), (2, 16), (2, 15), (2, 29), (2, 6), (2, 35), (2, 18), (2, 4), (2, 8), (2, 11), (2, 24), (2, 5), (2, 9), (2, 10), (2, 12), (2, 14), (2, 26), (2, 27), (2, 28), (2, 31), (2, 32), (2, 34), (3, 28), (3, 35), (3, 5), (3, 15), (3, 11), (3, 27), (3, 25), (3, 37), (3, 23), (3, 4), (3, 7), (3, 12), (3, 13), (3, 14), (3, 16), (3, 18), (3, 22), (3, 29), (3, 31), (3, 34), (3, 36), (4, 12), (4, 16), (4, 26), (4, 25), (4, 11), (4, 5), (4, 6), (4, 21), (4, 22), (4, 7), (4, 8), (4, 17), (4, 37), (5, 6), (5, 23), (5, 33), (5, 39), (5, 8), (5, 9), (5, 13), (5, 18), (5, 19), (5, 20), (5, 27), (5, 30), (5, 31), (5, 35), (5, 38), (6, 14), (6, 9), (6, 26), (6, 19), (6, 29), (6, 31), (6, 30), (6, 37), (6, 20), (6, 21), (6, 13), (6, 32), (6, 22), (6, 23), (6, 24), (6, 36), (6, 38), (6, 39), (7, 31), (7, 10), (7, 39), (7, 26), (7, 20), (7, 37), (7, 23), (7, 36), (7, 17), (7, 14), (7, 8), (7, 9), (7, 13), (7, 19), (7, 30), (7, 38), (8, 15), (8, 14), (8, 23), (8, 35), (8, 22), (8, 21), (8, 28), (8, 13), (8, 37), (8, 33), (8, 27), (8, 29), (8, 12), (8, 25), (8, 30), (8, 31), (8, 36), (9, 28), (9, 18), (9, 12), (9, 15), (9, 32), (9, 35), (9, 11), (9, 14), (9, 25), (9, 26), (9, 29), (9, 34), (9, 36), (9, 38), (10, 15), (10, 13), (10, 12), (10, 23), (10, 25), (10, 38), (10, 35), (10, 11), (10, 14), (10, 18), (10, 21), (10, 22), (10, 27), (10, 29), (10, 33), (10, 34), (10, 36), (11, 23), (11, 24), (11, 35), (11, 19), (11, 36), (11, 21), (11, 13), (11, 14), (11, 27), (11, 30), (11, 31), (11, 33), (11, 38), (11, 39), (12, 27), (12, 32), (12, 17), (12, 30), (12, 13), (12, 19), (12, 20), (12, 23), (12, 24), (12, 26), (12, 38), (12, 39), (13, 25), (13, 23), (13, 28), (13, 33), (13, 32), (13, 26), (13, 24), (13, 14), (13, 15), (13, 16), (13, 34), (14, 29), (14, 17), (14, 39), (14, 38), (14, 36), (14, 19), (14, 31), (14, 32), (14, 28), (14, 20), (14, 21), (14, 24), (14, 27), (14, 37), (15, 26), (15, 20), (15, 21), (15, 19), (15, 17), (15, 27), (15, 24), (15, 30), (15, 32), (15, 37), (15, 38), (15, 39), (16, 19), (16, 27), (16, 34), (16, 36), (16, 21), (16, 26), (16, 32), (16, 24), (16, 31), (16, 17), (16, 22), (16, 23), (16, 29), (16, 37), (16, 38), (16, 39), (17, 25), (17, 29), (17, 23), (17, 33), (17, 32), (17, 35), (17, 22), (17, 34), (17, 36), (17, 18), (17, 20), (17, 24), (17, 28), (17, 31), (18, 37), (18, 33), (18, 19), (18, 31), (18, 39), (18, 22), (18, 27), (18, 21), (18, 23), (18, 24), (18, 26), (18, 29), (18, 32), (18, 38), (19, 25), (19, 35), (19, 21), (19, 29), (19, 34), (19, 22), (19, 24), (19, 28), (19, 30), (19, 37), (20, 26), (20, 24), (20, 27), (20, 28), (20, 22), (20, 35), (20, 21), (20, 23), (20, 25), (20, 29), (20, 32), (20, 34), (20, 36), (21, 28), (21, 29), (21, 37), (21, 34), (21, 31), (21, 22), (21, 23), (21, 25), (21, 33), (21, 35), (21, 36), (22, 30), (22, 24), (22, 34), (22, 38), (22, 27), (22, 32), (22, 39), (23, 38), (23, 30), (23, 37), (24, 25), (24, 31), (24, 33), (24, 37), (24, 29), (24, 38), (25, 30), (25, 26), (25, 27), (25, 38), (25, 39), (26, 36), (26, 30), (26, 37), (26, 27), (26, 28), (26, 33), (26, 35), (27, 32), (27, 37), (27, 29), (27, 31), (27, 28), (27, 36), (28, 30), (28, 39), (28, 38), (28, 36), (29, 38), (29, 30), (29, 32), (29, 37), (29, 39), (30, 38), (30, 31), (30, 34), (30, 36), (31, 39), (31, 35), (31, 32), (31, 34), (32, 35), (32, 33), (32, 36), (33, 36), (33, 37), (33, 39), (33, 34), (34, 38), (34, 37), (34, 39), (35, 37), (35, 38), (35, 39), (36, 38), (36, 39)]\n",
      "[(0, 1), (0, 22), (0, 34), (0, 2), (0, 7), (0, 11), (0, 21), (0, 24), (0, 26), (0, 30), (0, 33), (1, 30), (1, 21), (1, 39), (1, 26), (1, 33), (1, 35), (1, 2), (1, 12), (1, 24), (1, 34), (2, 7), (2, 25), (2, 14), (2, 6), (2, 17), (2, 26), (2, 34), (2, 22), (2, 37), (2, 18), (2, 38), (2, 39), (2, 31), (2, 12), (2, 33), (2, 5), (2, 19), (2, 9), (2, 10), (2, 11), (2, 13), (2, 15), (2, 20), (2, 21), (2, 24), (2, 27), (2, 28), (2, 30), (2, 32), (2, 36), (3, 8), (3, 23), (3, 12), (3, 27), (3, 11), (3, 36), (3, 13), (3, 38), (3, 25), (3, 10), (3, 17), (3, 19), (3, 20), (3, 22), (3, 26), (3, 35), (4, 17), (4, 6), (4, 9), (4, 25), (4, 32), (4, 11), (4, 21), (5, 36), (5, 25), (5, 7), (5, 13), (5, 23), (5, 29), (5, 32), (5, 33), (6, 34), (6, 10), (6, 19), (6, 27), (6, 14), (6, 32), (6, 24), (6, 36), (6, 11), (6, 30), (6, 12), (6, 13), (6, 23), (6, 25), (6, 31), (7, 17), (7, 22), (7, 39), (7, 30), (7, 28), (7, 38), (7, 31), (7, 23), (7, 13), (7, 34), (7, 11), (7, 33), (7, 26), (7, 32), (7, 20), (7, 25), (7, 8), (7, 9), (7, 19), (7, 21), (7, 27), (7, 36), (7, 37), (8, 15), (8, 9), (8, 29), (8, 10), (8, 19), (8, 30), (8, 36), (8, 24), (8, 35), (8, 20), (8, 38), (8, 32), (8, 39), (8, 23), (8, 12), (8, 26), (8, 34), (8, 25), (8, 11), (8, 21), (8, 22), (8, 31), (8, 33), (9, 36), (9, 34), (9, 11), (9, 10), (9, 12), (9, 19), (9, 20), (9, 18), (9, 13), (9, 15), (9, 17), (9, 21), (9, 25), (9, 35), (10, 11), (10, 18), (10, 25), (10, 16), (10, 37), (10, 29), (10, 27), (10, 34), (10, 36), (10, 12), (10, 19), (10, 30), (10, 33), (10, 13), (10, 17), (10, 21), (11, 23), (11, 37), (11, 22), (11, 33), (11, 20), (11, 36), (11, 34), (11, 39), (11, 19), (11, 25), (11, 14), (11, 38), (11, 12), (11, 13), (11, 15), (11, 16), (11, 17), (11, 18), (11, 21), (11, 26), (11, 27), (11, 28), (11, 29), (11, 30), (11, 31), (11, 32), (12, 33), (12, 37), (12, 23), (12, 18), (12, 17), (12, 19), (12, 15), (12, 34), (12, 38), (12, 13), (12, 16), (12, 20), (12, 21), (12, 24), (12, 25), (12, 26), (12, 30), (12, 35), (12, 36), (13, 19), (13, 23), (13, 30), (13, 25), (13, 20), (13, 27), (13, 35), (13, 38), (13, 14), (13, 24), (13, 36), (13, 31), (13, 39), (13, 37), (13, 15), (13, 17), (13, 18), (13, 21), (13, 26), (13, 29), (13, 32), (14, 25), (14, 23), (14, 21), (14, 37), (14, 20), (14, 38), (14, 17), (14, 19), (14, 30), (14, 35), (15, 33), (15, 17), (15, 26), (15, 21), (15, 38), (15, 20), (15, 24), (15, 25), (15, 27), (15, 30), (15, 31), (15, 35), (15, 36), (16, 33), (16, 37), (16, 18), (16, 17), (16, 21), (17, 19), (17, 25), (17, 32), (17, 39), (17, 37), (17, 27), (17, 24), (17, 18), (17, 20), (17, 21), (17, 30), (17, 33), (17, 34), (18, 21), (18, 27), (18, 30), (19, 38), (19, 31), (19, 24), (19, 29), (19, 36), (19, 23), (19, 25), (19, 32), (19, 20), (19, 21), (19, 22), (19, 30), (19, 33), (19, 34), (19, 35), (19, 37), (20, 24), (20, 29), (20, 32), (20, 21), (20, 23), (20, 25), (20, 30), (20, 33), (20, 34), (20, 36), (20, 38), (20, 39), (21, 24), (21, 23), (21, 35), (21, 37), (21, 33), (21, 25), (21, 39), (21, 30), (21, 34), (21, 26), (21, 27), (21, 31), (21, 32), (21, 38), (22, 30), (22, 27), (22, 26), (22, 24), (22, 33), (22, 34), (22, 35), (22, 36), (23, 36), (23, 38), (23, 24), (23, 26), (23, 32), (24, 34), (24, 31), (24, 30), (24, 36), (24, 26), (24, 35), (24, 25), (24, 29), (25, 26), (25, 35), (25, 34), (25, 36), (25, 28), (25, 38), (25, 27), (25, 29), (25, 30), (25, 32), (25, 33), (25, 37), (25, 39), (26, 30), (26, 36), (26, 31), (26, 33), (26, 35), (27, 34), (27, 33), (27, 29), (27, 36), (27, 30), (27, 39), (28, 36), (29, 30), (29, 35), (29, 36), (29, 39), (30, 39), (30, 36), (30, 38), (30, 33), (30, 37), (30, 31), (30, 34), (32, 33), (32, 34), (32, 36), (32, 37), (32, 39), (33, 36), (33, 35), (33, 34), (33, 37), (33, 39), (34, 36), (34, 35), (34, 37), (34, 38), (35, 36), (36, 38), (36, 37), (37, 38)]\n",
      "[(0, 4), (0, 26), (0, 33), (0, 14), (0, 11), (0, 16), (0, 1), (0, 3), (0, 6), (0, 8), (0, 10), (0, 17), (0, 19), (0, 21), (0, 24), (0, 30), (0, 37), (0, 39), (1, 12), (1, 31), (1, 5), (1, 39), (1, 37), (1, 15), (1, 14), (1, 25), (1, 8), (1, 35), (1, 7), (1, 9), (1, 16), (1, 22), (1, 28), (1, 33), (1, 38), (2, 33), (2, 9), (2, 3), (2, 34), (2, 15), (2, 19), (2, 12), (2, 35), (2, 31), (2, 10), (2, 6), (2, 11), (2, 21), (2, 23), (2, 25), (2, 27), (2, 37), (2, 39), (3, 8), (3, 30), (3, 27), (3, 36), (3, 31), (3, 18), (3, 14), (3, 23), (3, 5), (3, 21), (3, 12), (3, 7), (3, 10), (3, 11), (3, 15), (3, 16), (3, 17), (3, 19), (3, 20), (3, 24), (3, 25), (3, 26), (3, 28), (3, 29), (3, 34), (3, 35), (3, 37), (4, 26), (4, 35), (4, 5), (4, 7), (4, 33), (4, 13), (4, 24), (4, 25), (4, 34), (4, 6), (4, 10), (4, 11), (4, 14), (4, 20), (4, 28), (4, 29), (4, 30), (5, 12), (5, 7), (5, 27), (5, 17), (5, 29), (5, 32), (5, 8), (5, 22), (5, 38), (5, 6), (5, 35), (5, 23), (5, 13), (5, 15), (5, 19), (5, 24), (5, 25), (5, 26), (5, 28), (5, 30), (5, 34), (5, 36), (5, 37), (6, 20), (6, 15), (6, 11), (6, 30), (6, 28), (6, 37), (6, 35), (6, 7), (6, 8), (6, 10), (6, 12), (6, 13), (6, 17), (6, 23), (6, 24), (6, 26), (6, 29), (6, 32), (6, 39), (7, 30), (7, 27), (7, 14), (7, 12), (7, 8), (7, 34), (7, 10), (7, 24), (7, 17), (7, 16), (7, 18), (7, 19), (7, 20), (7, 22), (7, 25), (7, 26), (7, 28), (7, 29), (7, 32), (7, 36), (7, 39), (8, 23), (8, 24), (8, 35), (8, 19), (8, 18), (8, 33), (8, 28), (8, 22), (8, 39), (8, 21), (8, 13), (8, 14), (8, 16), (8, 25), (8, 30), (8, 31), (8, 37), (8, 38), (9, 21), (9, 25), (9, 33), (9, 17), (9, 16), (9, 11), (9, 12), (9, 15), (9, 20), (9, 22), (9, 23), (9, 26), (9, 34), (9, 39), (10, 15), (10, 32), (10, 12), (10, 11), (10, 27), (10, 17), (10, 20), (10, 26), (10, 30), (10, 34), (11, 39), (11, 16), (11, 29), (11, 20), (11, 24), (11, 14), (11, 25), (11, 26), (11, 32), (11, 33), (11, 34), (12, 39), (12, 35), (12, 14), (12, 28), (12, 21), (12, 15), (12, 17), (12, 19), (12, 22), (12, 26), (12, 27), (12, 30), (12, 33), (12, 38), (13, 25), (13, 35), (13, 23), (13, 34), (13, 33), (13, 14), (13, 20), (13, 26), (14, 37), (14, 21), (14, 39), (14, 16), (14, 28), (14, 33), (14, 32), (14, 29), (14, 20), (14, 22), (14, 25), (14, 26), (14, 27), (14, 31), (14, 35), (14, 38), (15, 30), (15, 25), (15, 22), (15, 39), (15, 29), (15, 33), (15, 17), (15, 23), (15, 24), (15, 31), (15, 35), (16, 26), (16, 19), (16, 34), (16, 20), (16, 17), (16, 18), (16, 24), (16, 25), (16, 29), (16, 32), (16, 38), (17, 30), (17, 34), (17, 19), (17, 35), (17, 20), (17, 21), (17, 22), (17, 24), (17, 26), (17, 31), (17, 33), (18, 34), (18, 35), (18, 20), (18, 25), (18, 28), (19, 24), (19, 33), (19, 34), (19, 36), (19, 39), (20, 28), (20, 33), (20, 23), (20, 25), (20, 26), (20, 29), (20, 34), (20, 39), (21, 31), (21, 24), (21, 27), (21, 22), (21, 25), (21, 26), (21, 28), (21, 37), (22, 30), (22, 29), (22, 24), (22, 27), (23, 32), (23, 26), (23, 25), (23, 37), (23, 35), (23, 33), (23, 24), (23, 28), (23, 31), (23, 34), (23, 36), (23, 39), (24, 30), (24, 36), (24, 26), (24, 25), (24, 28), (24, 29), (24, 31), (24, 33), (24, 34), (24, 39), (25, 31), (25, 29), (25, 38), (25, 26), (25, 37), (25, 27), (25, 28), (25, 32), (25, 33), (25, 34), (25, 35), (25, 39), (26, 29), (26, 35), (26, 31), (26, 28), (26, 30), (26, 34), (26, 36), (26, 39), (27, 39), (27, 28), (27, 32), (27, 33), (27, 29), (27, 31), (28, 31), (28, 33), (28, 35), (28, 29), (28, 30), (28, 34), (28, 37), (28, 39), (29, 34), (29, 33), (29, 36), (29, 30), (29, 39), (29, 32), (29, 35), (30, 33), (30, 35), (30, 32), (30, 34), (31, 39), (31, 32), (31, 33), (31, 34), (31, 37), (31, 38), (32, 35), (33, 36), (33, 39), (33, 34), (33, 35), (34, 39), (34, 36), (34, 37), (34, 35), (35, 37), (35, 38), (36, 39), (37, 39)]\n",
      "[(0, 3), (0, 23), (0, 15), (0, 32), (0, 16), (0, 17), (0, 8), (0, 27), (0, 37), (0, 9), (0, 5), (0, 11), (0, 18), (0, 24), (0, 25), (0, 29), (0, 30), (0, 31), (0, 34), (0, 36), (0, 38), (0, 39), (1, 9), (1, 28), (1, 16), (1, 7), (1, 6), (1, 20), (1, 35), (1, 36), (1, 38), (1, 10), (1, 11), (1, 12), (1, 14), (1, 15), (1, 17), (1, 21), (1, 23), (1, 24), (1, 27), (1, 30), (1, 32), (1, 34), (1, 37), (2, 28), (2, 27), (2, 24), (2, 20), (2, 6), (2, 18), (2, 4), (2, 33), (2, 38), (2, 3), (2, 7), (2, 9), (2, 16), (2, 19), (2, 22), (2, 25), (2, 30), (2, 31), (2, 34), (2, 37), (2, 39), (3, 37), (3, 21), (3, 26), (3, 29), (3, 10), (3, 20), (3, 7), (3, 28), (3, 14), (3, 6), (3, 12), (3, 17), (3, 18), (3, 22), (3, 25), (3, 34), (3, 35), (3, 38), (4, 35), (4, 18), (4, 24), (4, 7), (4, 23), (4, 27), (4, 26), (4, 38), (4, 14), (4, 19), (4, 8), (4, 9), (4, 10), (4, 21), (4, 30), (4, 37), (5, 21), (5, 30), (5, 8), (5, 36), (5, 9), (5, 34), (5, 23), (5, 37), (5, 7), (5, 11), (5, 15), (5, 22), (5, 24), (5, 28), (5, 32), (5, 33), (5, 35), (5, 38), (5, 39), (6, 26), (6, 27), (6, 28), (6, 22), (6, 9), (6, 15), (6, 19), (6, 10), (6, 13), (6, 17), (6, 21), (6, 24), (6, 25), (6, 35), (6, 38), (7, 32), (7, 15), (7, 21), (7, 26), (7, 13), (7, 24), (7, 27), (7, 30), (7, 9), (7, 17), (7, 19), (7, 23), (7, 25), (7, 28), (7, 31), (7, 33), (7, 34), (7, 36), (8, 26), (8, 38), (8, 16), (8, 9), (8, 18), (8, 10), (8, 13), (8, 19), (8, 22), (8, 23), (8, 24), (8, 25), (8, 27), (8, 28), (8, 31), (8, 32), (8, 37), (9, 23), (9, 39), (9, 11), (9, 24), (9, 19), (9, 20), (9, 36), (9, 14), (9, 13), (9, 16), (9, 27), (9, 30), (9, 32), (9, 35), (9, 38), (10, 18), (10, 16), (10, 17), (10, 33), (10, 20), (10, 12), (10, 13), (10, 21), (10, 24), (10, 30), (10, 31), (10, 32), (10, 34), (10, 36), (10, 39), (11, 38), (11, 17), (11, 25), (11, 18), (11, 20), (11, 12), (11, 19), (11, 22), (11, 23), (11, 33), (11, 34), (11, 37), (12, 19), (12, 33), (12, 39), (12, 34), (12, 27), (12, 31), (12, 22), (12, 14), (12, 18), (12, 26), (12, 30), (12, 35), (12, 36), (13, 25), (13, 29), (13, 14), (13, 27), (13, 22), (13, 30), (13, 17), (13, 20), (13, 23), (13, 26), (13, 36), (13, 38), (14, 24), (14, 32), (14, 19), (14, 25), (14, 36), (14, 38), (14, 37), (14, 35), (14, 33), (14, 17), (14, 18), (14, 21), (14, 29), (14, 39), (15, 36), (15, 17), (15, 26), (15, 25), (15, 16), (15, 18), (15, 22), (15, 31), (15, 32), (15, 37), (16, 30), (16, 24), (16, 25), (16, 35), (16, 19), (16, 22), (16, 27), (16, 38), (16, 20), (16, 23), (16, 32), (16, 34), (16, 36), (17, 27), (17, 29), (17, 34), (17, 36), (17, 21), (17, 28), (17, 31), (17, 32), (17, 33), (17, 37), (17, 39), (18, 31), (18, 24), (18, 37), (18, 30), (18, 25), (18, 27), (18, 29), (18, 39), (19, 31), (19, 38), (19, 20), (19, 26), (19, 23), (19, 30), (19, 32), (19, 37), (20, 21), (20, 28), (20, 35), (20, 24), (20, 25), (20, 26), (20, 36), (20, 38), (20, 39), (21, 28), (21, 23), (21, 32), (21, 26), (21, 36), (21, 38), (21, 39), (21, 29), (21, 37), (21, 30), (21, 34), (22, 24), (22, 39), (22, 23), (22, 37), (22, 28), (22, 36), (23, 39), (23, 28), (23, 32), (23, 24), (23, 33), (23, 25), (23, 31), (23, 35), (24, 29), (24, 33), (24, 31), (24, 32), (24, 39), (24, 28), (24, 36), (24, 37), (24, 38), (25, 31), (25, 33), (25, 28), (25, 27), (25, 29), (25, 38), (25, 34), (25, 26), (25, 32), (25, 39), (26, 33), (26, 39), (26, 27), (26, 29), (26, 31), (26, 34), (26, 37), (27, 39), (27, 28), (27, 29), (27, 30), (27, 33), (27, 37), (28, 32), (28, 39), (28, 33), (28, 29), (28, 34), (29, 30), (29, 32), (29, 39), (30, 32), (30, 31), (30, 38), (30, 39), (31, 36), (31, 39), (32, 33), (32, 35), (32, 38), (32, 39), (32, 34), (32, 36), (33, 38), (33, 34), (33, 35), (34, 37), (34, 38), (34, 36), (34, 39), (35, 39), (35, 36), (35, 37), (36, 37), (36, 39), (37, 38), (38, 39)]\n"
     ]
    }
   ],
   "source": [
    "for i in range(1,6):\n",
    "    with open('G_40_'+str(i)+'.pickle', 'rb') as f:\n",
    "        G = pickle.load(f)\n",
    "    G.edges()\n",
    "    edges = G.edges()\n",
    "\n",
    "    # Open (or create) a CSV file and write the list into it\n",
    "    with open('G_40_'+str(i) + '.csv', 'w', newline='') as file:\n",
    "        writer = csv.writer(file)\n",
    "        print(list(edges))\n",
    "        writer.writerows(list(edges))\n",
    "    #    with open('G_40_'+str(i) + '.pickle','a') as f:\n",
    "     #       print(edge[0], edge[1])\n",
    "    #np.save('40_'+str(i)+'_edges.npy', arr)"
   ],
   "metadata": {
    "collapsed": false,
    "ExecuteTime": {
     "end_time": "2023-07-28T06:43:58.843222200Z",
     "start_time": "2023-07-28T06:43:58.791471200Z"
    }
   }
  },
  {
   "cell_type": "code",
   "execution_count": null,
   "outputs": [],
   "source": [],
   "metadata": {
    "collapsed": false
   }
  },
  {
   "cell_type": "code",
   "execution_count": 13,
   "outputs": [
    {
     "data": {
      "text/plain": "array([[0, 24],\n       [0, 30],\n       [0, 3],\n       [0, 11],\n       [0, 35],\n       [0, 1],\n       [0, 2],\n       [0, 8],\n       [0, 13],\n       [0, 19],\n       [0, 21],\n       [0, 27],\n       [0, 29],\n       [0, 31],\n       [0, 32],\n       [0, 33],\n       [0, 34],\n       [0, 36],\n       [0, 39],\n       [1, 15],\n       [1, 38],\n       [1, 17],\n       [1, 7],\n       [1, 23],\n       [1, 30],\n       [1, 16],\n       [1, 5],\n       [1, 9],\n       [1, 12],\n       [1, 14],\n       [1, 22],\n       [1, 25],\n       [1, 28],\n       [1, 36],\n       [1, 37],\n       [2, 7],\n       [2, 25],\n       [2, 14],\n       [2, 8],\n       [2, 11],\n       [2, 17],\n       [2, 38],\n       [2, 15],\n       [2, 37],\n       [2, 30],\n       [2, 18],\n       [2, 4],\n       [2, 9],\n       [2, 12],\n       [2, 16],\n       [2, 22],\n       [2, 23],\n       [2, 28],\n       [2, 29],\n       [2, 32],\n       [2, 39],\n       [3, 29],\n       [3, 37],\n       [3, 9],\n       [3, 27],\n       [3, 14],\n       [3, 34],\n       [3, 10],\n       [3, 39],\n       [3, 28],\n       [3, 38],\n       [3, 7],\n       [3, 8],\n       [3, 11],\n       [3, 12],\n       [3, 17],\n       [3, 22],\n       [3, 23],\n       [3, 30],\n       [4, 32],\n       [4, 29],\n       [4, 23],\n       [4, 37],\n       [4, 36],\n       [4, 28],\n       [4, 19],\n       [4, 10],\n       [4, 11],\n       [4, 30],\n       [4, 25],\n       [4, 18],\n       [4, 5],\n       [4, 8],\n       [4, 13],\n       [4, 14],\n       [4, 15],\n       [4, 21],\n       [4, 24],\n       [4, 26],\n       [4, 31],\n       [4, 35],\n       [5, 24],\n       [5, 20],\n       [5, 37],\n       [5, 26],\n       [5, 34],\n       [5, 18],\n       [5, 14],\n       [5, 33],\n       [5, 39],\n       [5, 8],\n       [5, 29],\n       [5, 13],\n       [5, 11],\n       [5, 12],\n       [5, 15],\n       [5, 21],\n       [5, 30],\n       [5, 31],\n       [5, 35],\n       [6, 28],\n       [6, 38],\n       [6, 12],\n       [6, 29],\n       [6, 31],\n       [6, 8],\n       [6, 37],\n       [6, 14],\n       [6, 25],\n       [6, 18],\n       [6, 7],\n       [6, 9],\n       [6, 10],\n       [6, 13],\n       [6, 15],\n       [6, 17],\n       [6, 22],\n       [6, 23],\n       [6, 30],\n       [6, 33],\n       [6, 35],\n       [7, 31],\n       [7, 11],\n       [7, 32],\n       [7, 33],\n       [7, 13],\n       [7, 10],\n       [7, 16],\n       [7, 20],\n       [7, 24],\n       [7, 26],\n       [7, 27],\n       [7, 35],\n       [7, 36],\n       [8, 21],\n       [8, 25],\n       [8, 28],\n       [8, 37],\n       [8, 32],\n       [8, 33],\n       [8, 10],\n       [8, 26],\n       [8, 31],\n       [8, 13],\n       [8, 16],\n       [8, 17],\n       [8, 18],\n       [8, 24],\n       [8, 27],\n       [8, 35],\n       [8, 39],\n       [9, 11],\n       [9, 13],\n       [9, 29],\n       [9, 31],\n       [9, 35],\n       [9, 19],\n       [9, 20],\n       [9, 21],\n       [9, 24],\n       [9, 26],\n       [9, 32],\n       [9, 33],\n       [9, 36],\n       [10, 29],\n       [10, 39],\n       [10, 34],\n       [10, 18],\n       [10, 14],\n       [10, 26],\n       [10, 38],\n       [10, 21],\n       [10, 24],\n       [10, 25],\n       [10, 30],\n       [10, 31],\n       [10, 33],\n       [10, 35],\n       [10, 37],\n       [11, 28],\n       [11, 38],\n       [11, 22],\n       [11, 12],\n       [11, 34],\n       [11, 39],\n       [11, 15],\n       [11, 14],\n       [11, 17],\n       [11, 18],\n       [11, 23],\n       [11, 25],\n       [11, 37],\n       [12, 33],\n       [12, 13],\n       [12, 31],\n       [12, 16],\n       [12, 24],\n       [12, 32],\n       [12, 36],\n       [12, 19],\n       [12, 20],\n       [12, 21],\n       [12, 26],\n       [12, 27],\n       [12, 35],\n       [12, 39],\n       [13, 17],\n       [13, 39],\n       [13, 38],\n       [13, 14],\n       [13, 23],\n       [13, 28],\n       [13, 15],\n       [13, 16],\n       [13, 22],\n       [13, 25],\n       [13, 34],\n       [14, 37],\n       [14, 31],\n       [14, 20],\n       [14, 27],\n       [14, 16],\n       [14, 19],\n       [14, 24],\n       [14, 26],\n       [14, 30],\n       [14, 32],\n       [14, 35],\n       [14, 36],\n       [15, 27],\n       [15, 32],\n       [15, 36],\n       [15, 29],\n       [15, 33],\n       [15, 26],\n       [15, 20],\n       [15, 35],\n       [15, 37],\n       [15, 21],\n       [15, 24],\n       [15, 30],\n       [15, 39],\n       [16, 37],\n       [16, 36],\n       [16, 24],\n       [16, 31],\n       [16, 30],\n       [16, 25],\n       [16, 21],\n       [16, 18],\n       [16, 19],\n       [16, 20],\n       [16, 28],\n       [16, 29],\n       [16, 34],\n       [16, 35],\n       [17, 33],\n       [17, 31],\n       [17, 21],\n       [17, 18],\n       [17, 27],\n       [17, 19],\n       [17, 24],\n       [17, 26],\n       [17, 28],\n       [17, 29],\n       [17, 30],\n       [17, 32],\n       [18, 29],\n       [18, 32],\n       [18, 24],\n       [18, 31],\n       [18, 39],\n       [18, 19],\n       [18, 20],\n       [18, 27],\n       [18, 34],\n       [18, 36],\n       [19, 25],\n       [19, 34],\n       [19, 22],\n       [19, 37],\n       [19, 28],\n       [19, 23],\n       [19, 33],\n       [19, 38],\n       [19, 39],\n       [20, 37],\n       [20, 29],\n       [20, 21],\n       [20, 27],\n       [20, 31],\n       [20, 22],\n       [20, 25],\n       [20, 28],\n       [20, 30],\n       [20, 32],\n       [20, 33],\n       [20, 38],\n       [20, 39],\n       [21, 25],\n       [21, 23],\n       [21, 22],\n       [21, 26],\n       [21, 27],\n       [21, 32],\n       [21, 38],\n       [22, 39],\n       [22, 34],\n       [22, 26],\n       [22, 32],\n       [22, 24],\n       [22, 27],\n       [22, 30],\n       [22, 31],\n       [22, 35],\n       [22, 37],\n       [23, 35],\n       [23, 26],\n       [23, 36],\n       [23, 29],\n       [23, 24],\n       [23, 27],\n       [23, 33],\n       [23, 34],\n       [24, 34],\n       [24, 25],\n       [24, 30],\n       [24, 29],\n       [24, 37],\n       [24, 38],\n       [24, 39],\n       [25, 33],\n       [25, 31],\n       [25, 32],\n       [25, 26],\n       [25, 27],\n       [25, 39],\n       [25, 30],\n       [25, 34],\n       [25, 35],\n       [26, 38],\n       [26, 34],\n       [26, 28],\n       [26, 30],\n       [26, 36],\n       [27, 35],\n       [27, 28],\n       [27, 29],\n       [27, 34],\n       [27, 37],\n       [28, 32],\n       [28, 33],\n       [28, 36],\n       [28, 35],\n       [28, 39],\n       [29, 38],\n       [29, 39],\n       [29, 36],\n       [29, 32],\n       [30, 32],\n       [30, 39],\n       [30, 38],\n       [31, 38],\n       [31, 34],\n       [31, 39],\n       [31, 37],\n       [32, 34],\n       [32, 35],\n       [32, 37],\n       [32, 38],\n       [33, 36],\n       [33, 35],\n       [33, 34],\n       [33, 37],\n       [33, 38],\n       [34, 36],\n       [34, 38],\n       [34, 35],\n       [35, 38],\n       [35, 39],\n       [36, 38],\n       [36, 37],\n       [36, 39],\n       [37, 38]], dtype=object)"
     },
     "execution_count": 13,
     "metadata": {},
     "output_type": "execute_result"
    }
   ],
   "source": [
    "np.load('40_1_edges.npy', allow_pickle=True)"
   ],
   "metadata": {
    "collapsed": false,
    "ExecuteTime": {
     "end_time": "2023-07-28T06:31:05.583261400Z",
     "start_time": "2023-07-28T06:31:05.577259600Z"
    }
   }
  },
  {
   "cell_type": "code",
   "execution_count": null,
   "outputs": [],
   "source": [],
   "metadata": {
    "collapsed": false
   }
  },
  {
   "cell_type": "code",
   "execution_count": 6,
   "outputs": [
    {
     "name": "stdout",
     "output_type": "stream",
     "text": [
      "0.18029761904761904\n",
      "0.1974046786546787\n",
      "0.1768506493506494\n",
      "0.17345689033189035\n",
      "0.1853994616494617\n"
     ]
    }
   ],
   "source": [
    "import networkx as nx\n",
    "for i in range(5):\n",
    "    G = nx.generators.erdos_renyi_graph(40,0.2)\n",
    "    print(nx.average_clustering(G))"
   ],
   "metadata": {
    "collapsed": false,
    "ExecuteTime": {
     "end_time": "2023-07-25T12:43:15.289513200Z",
     "start_time": "2023-07-25T12:43:15.283512Z"
    }
   }
  },
  {
   "cell_type": "code",
   "execution_count": 2,
   "outputs": [],
   "source": [
    "df = pd.read_csv('results.csv')\n",
    "df = df.drop(columns=['Unnamed: 0'])"
   ],
   "metadata": {
    "collapsed": false,
    "ExecuteTime": {
     "end_time": "2023-07-25T09:36:54.271742200Z",
     "start_time": "2023-07-25T09:36:54.258739400Z"
    }
   }
  },
  {
   "cell_type": "code",
   "execution_count": 3,
   "outputs": [
    {
     "data": {
      "text/plain": "     dense   star  cycle   path  num edges  num nodes  avg degree  des cl  \\\n0    False  False  False  False          5         20           5    0.21   \n1     True  False  False  False          5         20           5    0.21   \n2    False   True  False  False          5         20           5    0.21   \n3     True   True  False  False          5         20           5    0.21   \n4    False  False  False   True          5         20           5    0.21   \n..     ...    ...    ...    ...        ...        ...         ...     ...   \n732  False  False  False  False         10         40          10    0.43   \n733  False  False  False  False         15         40          10    0.43   \n734  False  False  False  False         20         40          10    0.43   \n735  False  False  False  False          5         40          10    0.43   \n736  False  False  False  False          5         40          10    0.43   \n\n     fact deg  fact cl  time  \n0         5.0   0.2102  0.11  \n1         5.0   0.2090  0.14  \n2         5.0   0.2105  0.15  \n3         5.0   0.2036  1.03  \n4         5.0   0.2098  0.08  \n..        ...      ...   ...  \n732      10.0   0.4298  0.47  \n733      10.0   0.4306  0.49  \n734      10.0   0.4298  0.66  \n735      10.0   0.4300  0.73  \n736      10.0   0.4298  0.77  \n\n[737 rows x 11 columns]",
      "text/html": "<div>\n<style scoped>\n    .dataframe tbody tr th:only-of-type {\n        vertical-align: middle;\n    }\n\n    .dataframe tbody tr th {\n        vertical-align: top;\n    }\n\n    .dataframe thead th {\n        text-align: right;\n    }\n</style>\n<table border=\"1\" class=\"dataframe\">\n  <thead>\n    <tr style=\"text-align: right;\">\n      <th></th>\n      <th>dense</th>\n      <th>star</th>\n      <th>cycle</th>\n      <th>path</th>\n      <th>num edges</th>\n      <th>num nodes</th>\n      <th>avg degree</th>\n      <th>des cl</th>\n      <th>fact deg</th>\n      <th>fact cl</th>\n      <th>time</th>\n    </tr>\n  </thead>\n  <tbody>\n    <tr>\n      <th>0</th>\n      <td>False</td>\n      <td>False</td>\n      <td>False</td>\n      <td>False</td>\n      <td>5</td>\n      <td>20</td>\n      <td>5</td>\n      <td>0.21</td>\n      <td>5.0</td>\n      <td>0.2102</td>\n      <td>0.11</td>\n    </tr>\n    <tr>\n      <th>1</th>\n      <td>True</td>\n      <td>False</td>\n      <td>False</td>\n      <td>False</td>\n      <td>5</td>\n      <td>20</td>\n      <td>5</td>\n      <td>0.21</td>\n      <td>5.0</td>\n      <td>0.2090</td>\n      <td>0.14</td>\n    </tr>\n    <tr>\n      <th>2</th>\n      <td>False</td>\n      <td>True</td>\n      <td>False</td>\n      <td>False</td>\n      <td>5</td>\n      <td>20</td>\n      <td>5</td>\n      <td>0.21</td>\n      <td>5.0</td>\n      <td>0.2105</td>\n      <td>0.15</td>\n    </tr>\n    <tr>\n      <th>3</th>\n      <td>True</td>\n      <td>True</td>\n      <td>False</td>\n      <td>False</td>\n      <td>5</td>\n      <td>20</td>\n      <td>5</td>\n      <td>0.21</td>\n      <td>5.0</td>\n      <td>0.2036</td>\n      <td>1.03</td>\n    </tr>\n    <tr>\n      <th>4</th>\n      <td>False</td>\n      <td>False</td>\n      <td>False</td>\n      <td>True</td>\n      <td>5</td>\n      <td>20</td>\n      <td>5</td>\n      <td>0.21</td>\n      <td>5.0</td>\n      <td>0.2098</td>\n      <td>0.08</td>\n    </tr>\n    <tr>\n      <th>...</th>\n      <td>...</td>\n      <td>...</td>\n      <td>...</td>\n      <td>...</td>\n      <td>...</td>\n      <td>...</td>\n      <td>...</td>\n      <td>...</td>\n      <td>...</td>\n      <td>...</td>\n      <td>...</td>\n    </tr>\n    <tr>\n      <th>732</th>\n      <td>False</td>\n      <td>False</td>\n      <td>False</td>\n      <td>False</td>\n      <td>10</td>\n      <td>40</td>\n      <td>10</td>\n      <td>0.43</td>\n      <td>10.0</td>\n      <td>0.4298</td>\n      <td>0.47</td>\n    </tr>\n    <tr>\n      <th>733</th>\n      <td>False</td>\n      <td>False</td>\n      <td>False</td>\n      <td>False</td>\n      <td>15</td>\n      <td>40</td>\n      <td>10</td>\n      <td>0.43</td>\n      <td>10.0</td>\n      <td>0.4306</td>\n      <td>0.49</td>\n    </tr>\n    <tr>\n      <th>734</th>\n      <td>False</td>\n      <td>False</td>\n      <td>False</td>\n      <td>False</td>\n      <td>20</td>\n      <td>40</td>\n      <td>10</td>\n      <td>0.43</td>\n      <td>10.0</td>\n      <td>0.4298</td>\n      <td>0.66</td>\n    </tr>\n    <tr>\n      <th>735</th>\n      <td>False</td>\n      <td>False</td>\n      <td>False</td>\n      <td>False</td>\n      <td>5</td>\n      <td>40</td>\n      <td>10</td>\n      <td>0.43</td>\n      <td>10.0</td>\n      <td>0.4300</td>\n      <td>0.73</td>\n    </tr>\n    <tr>\n      <th>736</th>\n      <td>False</td>\n      <td>False</td>\n      <td>False</td>\n      <td>False</td>\n      <td>5</td>\n      <td>40</td>\n      <td>10</td>\n      <td>0.43</td>\n      <td>10.0</td>\n      <td>0.4298</td>\n      <td>0.77</td>\n    </tr>\n  </tbody>\n</table>\n<p>737 rows × 11 columns</p>\n</div>"
     },
     "execution_count": 3,
     "metadata": {},
     "output_type": "execute_result"
    }
   ],
   "source": [
    "df"
   ],
   "metadata": {
    "collapsed": false,
    "ExecuteTime": {
     "end_time": "2023-07-25T09:36:54.388768600Z",
     "start_time": "2023-07-25T09:36:54.360762600Z"
    }
   }
  },
  {
   "cell_type": "code",
   "execution_count": 42,
   "outputs": [
    {
     "name": "stdout",
     "output_type": "stream",
     "text": [
      "Empty DataFrame\n",
      "Columns: [dense, star, cycle, path, num edges, num nodes, avg degree, des cl, fact deg, fact cl, time, diff]\n",
      "Index: []\n"
     ]
    }
   ],
   "source": [
    "df_one_configuration =  df[(df['num nodes']==20) & (df['num edges']==5) &(df['avg degree'] == 5) & (df['des cl'] == 0.46)].copy()\n",
    "df_one_configuration['diff'] = df_one_configuration['fact cl'].apply(lambda x: np.abs(x-0.21))\n",
    "pd.set_option('display.max_rows', df_one_configuration.shape[0]+1)\n",
    "print(df_one_configuration)#.plot.line(y='diff')"
   ],
   "metadata": {
    "collapsed": false,
    "ExecuteTime": {
     "end_time": "2023-07-18T10:14:36.851947400Z",
     "start_time": "2023-07-18T10:14:36.844945800Z"
    }
   }
  },
  {
   "cell_type": "code",
   "execution_count": 28,
   "outputs": [
    {
     "ename": "ValueError",
     "evalue": "All arguments should have the same length. The length of argument `y` is 3, whereas the length of  previously-processed arguments ['des cl'] is 10",
     "output_type": "error",
     "traceback": [
      "\u001B[1;31m---------------------------------------------------------------------------\u001B[0m",
      "\u001B[1;31mValueError\u001B[0m                                Traceback (most recent call last)",
      "Cell \u001B[1;32mIn[28], line 2\u001B[0m\n\u001B[0;32m      1\u001B[0m \u001B[38;5;66;03m#wide_df = px.data.medals_wide()\u001B[39;00m\n\u001B[1;32m----> 2\u001B[0m fig \u001B[38;5;241m=\u001B[39m \u001B[43mpx\u001B[49m\u001B[38;5;241;43m.\u001B[39;49m\u001B[43mbar\u001B[49m\u001B[43m(\u001B[49m\u001B[43mdf_one_configuration\u001B[49m\u001B[43m,\u001B[49m\u001B[43m \u001B[49m\u001B[43mx\u001B[49m\u001B[38;5;241;43m=\u001B[39;49m\u001B[38;5;124;43m\"\u001B[39;49m\u001B[38;5;124;43mdes cl\u001B[39;49m\u001B[38;5;124;43m\"\u001B[39;49m\u001B[43m,\u001B[49m\u001B[43m \u001B[49m\u001B[43my\u001B[49m\u001B[38;5;241;43m=\u001B[39;49m\u001B[43m[\u001B[49m\u001B[38;5;124;43m\"\u001B[39;49m\u001B[38;5;124;43mgold\u001B[39;49m\u001B[38;5;124;43m\"\u001B[39;49m\u001B[43m,\u001B[49m\u001B[43m \u001B[49m\u001B[38;5;124;43m\"\u001B[39;49m\u001B[38;5;124;43msilver\u001B[39;49m\u001B[38;5;124;43m\"\u001B[39;49m\u001B[43m,\u001B[49m\u001B[43m \u001B[49m\u001B[38;5;124;43m\"\u001B[39;49m\u001B[38;5;124;43mbronze\u001B[39;49m\u001B[38;5;124;43m\"\u001B[39;49m\u001B[43m]\u001B[49m\u001B[43m,\u001B[49m\u001B[43m \u001B[49m\u001B[43mtitle\u001B[49m\u001B[38;5;241;43m=\u001B[39;49m\u001B[38;5;124;43m\"\u001B[39;49m\u001B[38;5;124;43mavg deg=5\u001B[39;49m\u001B[38;5;124;43m\"\u001B[39;49m\u001B[43m)\u001B[49m\n\u001B[0;32m      3\u001B[0m fig\u001B[38;5;241m.\u001B[39mshow()\n",
      "File \u001B[1;32m~\\AppData\\Local\\Programs\\Python\\Python39\\lib\\site-packages\\plotly\\express\\_chart_types.py:373\u001B[0m, in \u001B[0;36mbar\u001B[1;34m(data_frame, x, y, color, pattern_shape, facet_row, facet_col, facet_col_wrap, facet_row_spacing, facet_col_spacing, hover_name, hover_data, custom_data, text, base, error_x, error_x_minus, error_y, error_y_minus, animation_frame, animation_group, category_orders, labels, color_discrete_sequence, color_discrete_map, color_continuous_scale, pattern_shape_sequence, pattern_shape_map, range_color, color_continuous_midpoint, opacity, orientation, barmode, log_x, log_y, range_x, range_y, text_auto, title, template, width, height)\u001B[0m\n\u001B[0;32m    325\u001B[0m \u001B[38;5;28;01mdef\u001B[39;00m \u001B[38;5;21mbar\u001B[39m(\n\u001B[0;32m    326\u001B[0m     data_frame\u001B[38;5;241m=\u001B[39m\u001B[38;5;28;01mNone\u001B[39;00m,\n\u001B[0;32m    327\u001B[0m     x\u001B[38;5;241m=\u001B[39m\u001B[38;5;28;01mNone\u001B[39;00m,\n\u001B[1;32m   (...)\u001B[0m\n\u001B[0;32m    367\u001B[0m     height\u001B[38;5;241m=\u001B[39m\u001B[38;5;28;01mNone\u001B[39;00m,\n\u001B[0;32m    368\u001B[0m ) \u001B[38;5;241m-\u001B[39m\u001B[38;5;241m>\u001B[39m go\u001B[38;5;241m.\u001B[39mFigure:\n\u001B[0;32m    369\u001B[0m \u001B[38;5;250m    \u001B[39m\u001B[38;5;124;03m\"\"\"\u001B[39;00m\n\u001B[0;32m    370\u001B[0m \u001B[38;5;124;03m    In a bar plot, each row of `data_frame` is represented as a rectangular\u001B[39;00m\n\u001B[0;32m    371\u001B[0m \u001B[38;5;124;03m    mark.\u001B[39;00m\n\u001B[0;32m    372\u001B[0m \u001B[38;5;124;03m    \"\"\"\u001B[39;00m\n\u001B[1;32m--> 373\u001B[0m     \u001B[38;5;28;01mreturn\u001B[39;00m \u001B[43mmake_figure\u001B[49m\u001B[43m(\u001B[49m\n\u001B[0;32m    374\u001B[0m \u001B[43m        \u001B[49m\u001B[43margs\u001B[49m\u001B[38;5;241;43m=\u001B[39;49m\u001B[38;5;28;43mlocals\u001B[39;49m\u001B[43m(\u001B[49m\u001B[43m)\u001B[49m\u001B[43m,\u001B[49m\n\u001B[0;32m    375\u001B[0m \u001B[43m        \u001B[49m\u001B[43mconstructor\u001B[49m\u001B[38;5;241;43m=\u001B[39;49m\u001B[43mgo\u001B[49m\u001B[38;5;241;43m.\u001B[39;49m\u001B[43mBar\u001B[49m\u001B[43m,\u001B[49m\n\u001B[0;32m    376\u001B[0m \u001B[43m        \u001B[49m\u001B[43mtrace_patch\u001B[49m\u001B[38;5;241;43m=\u001B[39;49m\u001B[38;5;28;43mdict\u001B[39;49m\u001B[43m(\u001B[49m\u001B[43mtextposition\u001B[49m\u001B[38;5;241;43m=\u001B[39;49m\u001B[38;5;124;43m\"\u001B[39;49m\u001B[38;5;124;43mauto\u001B[39;49m\u001B[38;5;124;43m\"\u001B[39;49m\u001B[43m)\u001B[49m\u001B[43m,\u001B[49m\n\u001B[0;32m    377\u001B[0m \u001B[43m        \u001B[49m\u001B[43mlayout_patch\u001B[49m\u001B[38;5;241;43m=\u001B[39;49m\u001B[38;5;28;43mdict\u001B[39;49m\u001B[43m(\u001B[49m\u001B[43mbarmode\u001B[49m\u001B[38;5;241;43m=\u001B[39;49m\u001B[43mbarmode\u001B[49m\u001B[43m)\u001B[49m\u001B[43m,\u001B[49m\n\u001B[0;32m    378\u001B[0m \u001B[43m    \u001B[49m\u001B[43m)\u001B[49m\n",
      "File \u001B[1;32m~\\AppData\\Local\\Programs\\Python\\Python39\\lib\\site-packages\\plotly\\express\\_core.py:1996\u001B[0m, in \u001B[0;36mmake_figure\u001B[1;34m(args, constructor, trace_patch, layout_patch)\u001B[0m\n\u001B[0;32m   1993\u001B[0m layout_patch \u001B[38;5;241m=\u001B[39m layout_patch \u001B[38;5;129;01mor\u001B[39;00m {}\n\u001B[0;32m   1994\u001B[0m apply_default_cascade(args)\n\u001B[1;32m-> 1996\u001B[0m args \u001B[38;5;241m=\u001B[39m \u001B[43mbuild_dataframe\u001B[49m\u001B[43m(\u001B[49m\u001B[43margs\u001B[49m\u001B[43m,\u001B[49m\u001B[43m \u001B[49m\u001B[43mconstructor\u001B[49m\u001B[43m)\u001B[49m\n\u001B[0;32m   1997\u001B[0m \u001B[38;5;28;01mif\u001B[39;00m constructor \u001B[38;5;129;01min\u001B[39;00m [go\u001B[38;5;241m.\u001B[39mTreemap, go\u001B[38;5;241m.\u001B[39mSunburst, go\u001B[38;5;241m.\u001B[39mIcicle] \u001B[38;5;129;01mand\u001B[39;00m args[\u001B[38;5;124m\"\u001B[39m\u001B[38;5;124mpath\u001B[39m\u001B[38;5;124m\"\u001B[39m] \u001B[38;5;129;01mis\u001B[39;00m \u001B[38;5;129;01mnot\u001B[39;00m \u001B[38;5;28;01mNone\u001B[39;00m:\n\u001B[0;32m   1998\u001B[0m     args \u001B[38;5;241m=\u001B[39m process_dataframe_hierarchy(args)\n",
      "File \u001B[1;32m~\\AppData\\Local\\Programs\\Python\\Python39\\lib\\site-packages\\plotly\\express\\_core.py:1409\u001B[0m, in \u001B[0;36mbuild_dataframe\u001B[1;34m(args, constructor)\u001B[0m\n\u001B[0;32m   1406\u001B[0m     args[\u001B[38;5;124m\"\u001B[39m\u001B[38;5;124mcolor\u001B[39m\u001B[38;5;124m\"\u001B[39m] \u001B[38;5;241m=\u001B[39m \u001B[38;5;28;01mNone\u001B[39;00m\n\u001B[0;32m   1407\u001B[0m \u001B[38;5;66;03m# now that things have been prepped, we do the systematic rewriting of `args`\u001B[39;00m\n\u001B[1;32m-> 1409\u001B[0m df_output, wide_id_vars \u001B[38;5;241m=\u001B[39m \u001B[43mprocess_args_into_dataframe\u001B[49m\u001B[43m(\u001B[49m\n\u001B[0;32m   1410\u001B[0m \u001B[43m    \u001B[49m\u001B[43margs\u001B[49m\u001B[43m,\u001B[49m\u001B[43m \u001B[49m\u001B[43mwide_mode\u001B[49m\u001B[43m,\u001B[49m\u001B[43m \u001B[49m\u001B[43mvar_name\u001B[49m\u001B[43m,\u001B[49m\u001B[43m \u001B[49m\u001B[43mvalue_name\u001B[49m\n\u001B[0;32m   1411\u001B[0m \u001B[43m\u001B[49m\u001B[43m)\u001B[49m\n\u001B[0;32m   1413\u001B[0m \u001B[38;5;66;03m# now that `df_output` exists and `args` contains only references, we complete\u001B[39;00m\n\u001B[0;32m   1414\u001B[0m \u001B[38;5;66;03m# the special-case and wide-mode handling by further rewriting args and/or mutating\u001B[39;00m\n\u001B[0;32m   1415\u001B[0m \u001B[38;5;66;03m# df_output\u001B[39;00m\n\u001B[0;32m   1417\u001B[0m count_name \u001B[38;5;241m=\u001B[39m _escape_col_name(df_output, \u001B[38;5;124m\"\u001B[39m\u001B[38;5;124mcount\u001B[39m\u001B[38;5;124m\"\u001B[39m, [var_name, value_name])\n",
      "File \u001B[1;32m~\\AppData\\Local\\Programs\\Python\\Python39\\lib\\site-packages\\plotly\\express\\_core.py:1246\u001B[0m, in \u001B[0;36mprocess_args_into_dataframe\u001B[1;34m(args, wide_mode, var_name, value_name)\u001B[0m\n\u001B[0;32m   1243\u001B[0m         col_name \u001B[38;5;241m=\u001B[39m _check_name_not_reserved(field, reserved_names)\n\u001B[0;32m   1245\u001B[0m     \u001B[38;5;28;01mif\u001B[39;00m length \u001B[38;5;129;01mand\u001B[39;00m \u001B[38;5;28mlen\u001B[39m(argument) \u001B[38;5;241m!=\u001B[39m length:\n\u001B[1;32m-> 1246\u001B[0m         \u001B[38;5;28;01mraise\u001B[39;00m \u001B[38;5;167;01mValueError\u001B[39;00m(\n\u001B[0;32m   1247\u001B[0m             \u001B[38;5;124m\"\u001B[39m\u001B[38;5;124mAll arguments should have the same length. \u001B[39m\u001B[38;5;124m\"\u001B[39m\n\u001B[0;32m   1248\u001B[0m             \u001B[38;5;124m\"\u001B[39m\u001B[38;5;124mThe length of argument `\u001B[39m\u001B[38;5;132;01m%s\u001B[39;00m\u001B[38;5;124m` is \u001B[39m\u001B[38;5;132;01m%d\u001B[39;00m\u001B[38;5;124m, whereas the \u001B[39m\u001B[38;5;124m\"\u001B[39m\n\u001B[0;32m   1249\u001B[0m             \u001B[38;5;124m\"\u001B[39m\u001B[38;5;124mlength of  previously-processed arguments \u001B[39m\u001B[38;5;132;01m%s\u001B[39;00m\u001B[38;5;124m is \u001B[39m\u001B[38;5;132;01m%d\u001B[39;00m\u001B[38;5;124m\"\u001B[39m\n\u001B[0;32m   1250\u001B[0m             \u001B[38;5;241m%\u001B[39m (field, \u001B[38;5;28mlen\u001B[39m(argument), \u001B[38;5;28mstr\u001B[39m(\u001B[38;5;28mlist\u001B[39m(df_output\u001B[38;5;241m.\u001B[39mcolumns)), length)\n\u001B[0;32m   1251\u001B[0m         )\n\u001B[0;32m   1252\u001B[0m     df_output[\u001B[38;5;28mstr\u001B[39m(col_name)] \u001B[38;5;241m=\u001B[39m to_unindexed_series(argument)\n\u001B[0;32m   1254\u001B[0m \u001B[38;5;66;03m# Finally, update argument with column name now that column exists\u001B[39;00m\n",
      "\u001B[1;31mValueError\u001B[0m: All arguments should have the same length. The length of argument `y` is 3, whereas the length of  previously-processed arguments ['des cl'] is 10"
     ]
    }
   ],
   "source": [
    "#wide_df = px.data.medals_wide()\n",
    "fig = px.bar(df_one_configuration, x=\"des cl\", y=[\"gold\", \"silver\", \"bronze\"], title=\"avg deg=5\")\n",
    "fig.show()"
   ],
   "metadata": {
    "collapsed": false,
    "ExecuteTime": {
     "end_time": "2023-07-18T09:59:07.700158300Z",
     "start_time": "2023-07-18T09:59:06.872972200Z"
    }
   }
  },
  {
   "cell_type": "code",
   "execution_count": 92,
   "outputs": [
    {
     "data": {
      "text/plain": "                  dense  star  cycle  path  num nodes  avg degree  fact deg  \\\ndes cl num edges                                                              \n0.47   5            0.0   0.0    0.0   0.0       20.0        10.0      10.0   \n       10           0.0   0.0    0.0   0.0       20.0        10.0      10.0   \n0.52   5            0.0   0.0    0.0   0.0       20.0        10.0      10.0   \n       10           0.0   0.0    0.0   0.0       20.0        10.0      10.0   \n0.57   5            0.0   0.0    0.0   0.0       20.0        10.0      10.0   \n\n                  fact cl  time  \ndes cl num edges                 \n0.47   5           0.4709  0.24  \n       10          0.4704  0.23  \n0.52   5           0.5197  0.10  \n       10          0.5206  0.10  \n0.57   5           0.5705  0.16  ",
      "text/html": "<div>\n<style scoped>\n    .dataframe tbody tr th:only-of-type {\n        vertical-align: middle;\n    }\n\n    .dataframe tbody tr th {\n        vertical-align: top;\n    }\n\n    .dataframe thead th {\n        text-align: right;\n    }\n</style>\n<table border=\"1\" class=\"dataframe\">\n  <thead>\n    <tr style=\"text-align: right;\">\n      <th></th>\n      <th></th>\n      <th>dense</th>\n      <th>star</th>\n      <th>cycle</th>\n      <th>path</th>\n      <th>num nodes</th>\n      <th>avg degree</th>\n      <th>fact deg</th>\n      <th>fact cl</th>\n      <th>time</th>\n    </tr>\n    <tr>\n      <th>des cl</th>\n      <th>num edges</th>\n      <th></th>\n      <th></th>\n      <th></th>\n      <th></th>\n      <th></th>\n      <th></th>\n      <th></th>\n      <th></th>\n      <th></th>\n    </tr>\n  </thead>\n  <tbody>\n    <tr>\n      <th rowspan=\"2\" valign=\"top\">0.47</th>\n      <th>5</th>\n      <td>0.0</td>\n      <td>0.0</td>\n      <td>0.0</td>\n      <td>0.0</td>\n      <td>20.0</td>\n      <td>10.0</td>\n      <td>10.0</td>\n      <td>0.4709</td>\n      <td>0.24</td>\n    </tr>\n    <tr>\n      <th>10</th>\n      <td>0.0</td>\n      <td>0.0</td>\n      <td>0.0</td>\n      <td>0.0</td>\n      <td>20.0</td>\n      <td>10.0</td>\n      <td>10.0</td>\n      <td>0.4704</td>\n      <td>0.23</td>\n    </tr>\n    <tr>\n      <th rowspan=\"2\" valign=\"top\">0.52</th>\n      <th>5</th>\n      <td>0.0</td>\n      <td>0.0</td>\n      <td>0.0</td>\n      <td>0.0</td>\n      <td>20.0</td>\n      <td>10.0</td>\n      <td>10.0</td>\n      <td>0.5197</td>\n      <td>0.10</td>\n    </tr>\n    <tr>\n      <th>10</th>\n      <td>0.0</td>\n      <td>0.0</td>\n      <td>0.0</td>\n      <td>0.0</td>\n      <td>20.0</td>\n      <td>10.0</td>\n      <td>10.0</td>\n      <td>0.5206</td>\n      <td>0.10</td>\n    </tr>\n    <tr>\n      <th>0.57</th>\n      <th>5</th>\n      <td>0.0</td>\n      <td>0.0</td>\n      <td>0.0</td>\n      <td>0.0</td>\n      <td>20.0</td>\n      <td>10.0</td>\n      <td>10.0</td>\n      <td>0.5705</td>\n      <td>0.16</td>\n    </tr>\n  </tbody>\n</table>\n</div>"
     },
     "execution_count": 92,
     "metadata": {},
     "output_type": "execute_result"
    }
   ],
   "source": [
    "df_one_configuration.groupby(['des cl','num edges']).mean()"
   ],
   "metadata": {
    "collapsed": false,
    "ExecuteTime": {
     "end_time": "2023-07-17T13:48:55.234060500Z",
     "start_time": "2023-07-17T13:48:55.207053500Z"
    }
   }
  },
  {
   "cell_type": "code",
   "execution_count": null,
   "outputs": [],
   "source": [],
   "metadata": {
    "collapsed": false
   }
  }
 ],
 "metadata": {
  "kernelspec": {
   "display_name": "Python 3",
   "language": "python",
   "name": "python3"
  },
  "language_info": {
   "codemirror_mode": {
    "name": "ipython",
    "version": 2
   },
   "file_extension": ".py",
   "mimetype": "text/x-python",
   "name": "python",
   "nbconvert_exporter": "python",
   "pygments_lexer": "ipython2",
   "version": "2.7.6"
  }
 },
 "nbformat": 4,
 "nbformat_minor": 0
}
