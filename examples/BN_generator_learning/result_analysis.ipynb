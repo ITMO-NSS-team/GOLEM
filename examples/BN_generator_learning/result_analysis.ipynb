{
 "cells": [
  {
   "cell_type": "code",
   "execution_count": 11,
   "metadata": {},
   "outputs": [],
   "source": [
    "import pandas as pd\n",
    "import ast\n",
    "from scipy.spatial import distance\n",
    "import seaborn as sns\n",
    "from bamt.networks.continuous_bn import ContinuousBN\n",
    "import numpy as np\n",
    "import matplotlib.pyplot as plt\n",
    "from scipy.stats import multivariate_normal"
   ]
  },
  {
   "cell_type": "code",
   "execution_count": 12,
   "metadata": {},
   "outputs": [
    {
     "data": {
      "text/html": [
       "<div>\n",
       "<style scoped>\n",
       "    .dataframe tbody tr th:only-of-type {\n",
       "        vertical-align: middle;\n",
       "    }\n",
       "\n",
       "    .dataframe tbody tr th {\n",
       "        vertical-align: top;\n",
       "    }\n",
       "\n",
       "    .dataframe thead th {\n",
       "        text-align: right;\n",
       "    }\n",
       "</style>\n",
       "<table border=\"1\" class=\"dataframe\">\n",
       "  <thead>\n",
       "    <tr style=\"text-align: right;\">\n",
       "      <th></th>\n",
       "      <th>Number of atr</th>\n",
       "      <th>P_edge</th>\n",
       "      <th>Target assort</th>\n",
       "      <th>Target correlation</th>\n",
       "      <th>Calculated_corr</th>\n",
       "      <th>Time</th>\n",
       "      <th>Deviation_assort</th>\n",
       "    </tr>\n",
       "  </thead>\n",
       "  <tbody>\n",
       "    <tr>\n",
       "      <th>0</th>\n",
       "      <td>5</td>\n",
       "      <td>0.05</td>\n",
       "      <td>0.2</td>\n",
       "      <td>[0.21911231101419557, 0.04202877113399168, 0.2...</td>\n",
       "      <td>[0.15375096069168862, 0.07673337994641573, 0.1...</td>\n",
       "      <td>124</td>\n",
       "      <td>0.0</td>\n",
       "    </tr>\n",
       "    <tr>\n",
       "      <th>1</th>\n",
       "      <td>5</td>\n",
       "      <td>0.05</td>\n",
       "      <td>0.2</td>\n",
       "      <td>[0.21911231101419557, 0.04202877113399168, 0.2...</td>\n",
       "      <td>[0.003177148404719695, -0.07137254647130907, 0...</td>\n",
       "      <td>124</td>\n",
       "      <td>0.1</td>\n",
       "    </tr>\n",
       "    <tr>\n",
       "      <th>2</th>\n",
       "      <td>5</td>\n",
       "      <td>0.05</td>\n",
       "      <td>0.9</td>\n",
       "      <td>[0.21911231101419557, 0.04202877113399168, 0.2...</td>\n",
       "      <td>[0.028122510269655013, -0.08201932720001502, -...</td>\n",
       "      <td>118</td>\n",
       "      <td>0.0</td>\n",
       "    </tr>\n",
       "    <tr>\n",
       "      <th>3</th>\n",
       "      <td>5</td>\n",
       "      <td>0.05</td>\n",
       "      <td>0.9</td>\n",
       "      <td>[0.21911231101419557, 0.04202877113399168, 0.2...</td>\n",
       "      <td>[0.14920765625808072, -0.1679856926803123, 0.0...</td>\n",
       "      <td>118</td>\n",
       "      <td>0.1</td>\n",
       "    </tr>\n",
       "    <tr>\n",
       "      <th>4</th>\n",
       "      <td>5</td>\n",
       "      <td>0.05</td>\n",
       "      <td>0.2</td>\n",
       "      <td>[0.896243648387824, 0.8764743386867624, 0.7829...</td>\n",
       "      <td>[-0.07723609331775982, 0.8795085713977949, 0.3...</td>\n",
       "      <td>131</td>\n",
       "      <td>0.0</td>\n",
       "    </tr>\n",
       "    <tr>\n",
       "      <th>...</th>\n",
       "      <td>...</td>\n",
       "      <td>...</td>\n",
       "      <td>...</td>\n",
       "      <td>...</td>\n",
       "      <td>...</td>\n",
       "      <td>...</td>\n",
       "      <td>...</td>\n",
       "    </tr>\n",
       "    <tr>\n",
       "      <th>233</th>\n",
       "      <td>20</td>\n",
       "      <td>0.05</td>\n",
       "      <td>0.2</td>\n",
       "      <td>[0.8372096644442305, 0.8029281125603025, 0.872...</td>\n",
       "      <td>[0.7776175818091849, 0.41912496651265707, 0.47...</td>\n",
       "      <td>519</td>\n",
       "      <td>0.2</td>\n",
       "    </tr>\n",
       "    <tr>\n",
       "      <th>234</th>\n",
       "      <td>20</td>\n",
       "      <td>0.05</td>\n",
       "      <td>0.2</td>\n",
       "      <td>[0.8372096644442305, 0.8029281125603025, 0.872...</td>\n",
       "      <td>[0.66666646088526, 0.09960763916777621, 0.4212...</td>\n",
       "      <td>519</td>\n",
       "      <td>0.3</td>\n",
       "    </tr>\n",
       "    <tr>\n",
       "      <th>235</th>\n",
       "      <td>20</td>\n",
       "      <td>0.05</td>\n",
       "      <td>0.2</td>\n",
       "      <td>[0.8372096644442305, 0.8029281125603025, 0.872...</td>\n",
       "      <td>[0.7320524824178574, -0.12440312913191616, 0.2...</td>\n",
       "      <td>519</td>\n",
       "      <td>0.5</td>\n",
       "    </tr>\n",
       "    <tr>\n",
       "      <th>236</th>\n",
       "      <td>20</td>\n",
       "      <td>0.05</td>\n",
       "      <td>0.9</td>\n",
       "      <td>[0.8372096644442305, 0.8029281125603025, 0.872...</td>\n",
       "      <td>[0.9685611444643006, 0.5020192045215788, -0.30...</td>\n",
       "      <td>166</td>\n",
       "      <td>0.1</td>\n",
       "    </tr>\n",
       "    <tr>\n",
       "      <th>237</th>\n",
       "      <td>20</td>\n",
       "      <td>0.05</td>\n",
       "      <td>0.9</td>\n",
       "      <td>[0.8372096644442305, 0.8029281125603025, 0.872...</td>\n",
       "      <td>[0.9954336905904714, -0.46501093571630847, -0....</td>\n",
       "      <td>166</td>\n",
       "      <td>0.1</td>\n",
       "    </tr>\n",
       "  </tbody>\n",
       "</table>\n",
       "<p>238 rows × 7 columns</p>\n",
       "</div>"
      ],
      "text/plain": [
       "     Number of atr  P_edge  Target assort  \\\n",
       "0                5    0.05            0.2   \n",
       "1                5    0.05            0.2   \n",
       "2                5    0.05            0.9   \n",
       "3                5    0.05            0.9   \n",
       "4                5    0.05            0.2   \n",
       "..             ...     ...            ...   \n",
       "233             20    0.05            0.2   \n",
       "234             20    0.05            0.2   \n",
       "235             20    0.05            0.2   \n",
       "236             20    0.05            0.9   \n",
       "237             20    0.05            0.9   \n",
       "\n",
       "                                    Target correlation  \\\n",
       "0    [0.21911231101419557, 0.04202877113399168, 0.2...   \n",
       "1    [0.21911231101419557, 0.04202877113399168, 0.2...   \n",
       "2    [0.21911231101419557, 0.04202877113399168, 0.2...   \n",
       "3    [0.21911231101419557, 0.04202877113399168, 0.2...   \n",
       "4    [0.896243648387824, 0.8764743386867624, 0.7829...   \n",
       "..                                                 ...   \n",
       "233  [0.8372096644442305, 0.8029281125603025, 0.872...   \n",
       "234  [0.8372096644442305, 0.8029281125603025, 0.872...   \n",
       "235  [0.8372096644442305, 0.8029281125603025, 0.872...   \n",
       "236  [0.8372096644442305, 0.8029281125603025, 0.872...   \n",
       "237  [0.8372096644442305, 0.8029281125603025, 0.872...   \n",
       "\n",
       "                                       Calculated_corr  Time  Deviation_assort  \n",
       "0    [0.15375096069168862, 0.07673337994641573, 0.1...   124               0.0  \n",
       "1    [0.003177148404719695, -0.07137254647130907, 0...   124               0.1  \n",
       "2    [0.028122510269655013, -0.08201932720001502, -...   118               0.0  \n",
       "3    [0.14920765625808072, -0.1679856926803123, 0.0...   118               0.1  \n",
       "4    [-0.07723609331775982, 0.8795085713977949, 0.3...   131               0.0  \n",
       "..                                                 ...   ...               ...  \n",
       "233  [0.7776175818091849, 0.41912496651265707, 0.47...   519               0.2  \n",
       "234  [0.66666646088526, 0.09960763916777621, 0.4212...   519               0.3  \n",
       "235  [0.7320524824178574, -0.12440312913191616, 0.2...   519               0.5  \n",
       "236  [0.9685611444643006, 0.5020192045215788, -0.30...   166               0.1  \n",
       "237  [0.9954336905904714, -0.46501093571630847, -0....   166               0.1  \n",
       "\n",
       "[238 rows x 7 columns]"
      ]
     },
     "execution_count": 12,
     "metadata": {},
     "output_type": "execute_result"
    }
   ],
   "source": [
    "data = pd.read_csv('results/paper_cec/4 20 0.05 0.9 high exp2.csv')\n",
    "data"
   ]
  },
  {
   "cell_type": "code",
   "execution_count": 13,
   "metadata": {},
   "outputs": [],
   "source": [
    "for i in data.index:\n",
    "    origin_corr = ast.literal_eval(data.loc[i,'Target correlation'])\n",
    "    calculated_corr = ast.literal_eval(data.loc[i,'Calculated_corr'])\n",
    "    data.loc[i, 'Corr distance'] = distance.euclidean(origin_corr, calculated_corr)\n",
    "    "
   ]
  },
  {
   "cell_type": "code",
   "execution_count": 19,
   "metadata": {},
   "outputs": [],
   "source": [
    "for i in data.index:\n",
    "    origin_corr = ast.literal_eval(data.loc[i,'Target correlation'])\n",
    "    if origin_corr[0] < 0.5:\n",
    "        data.loc[i, 'Corr type'] = 'low'\n",
    "    else:\n",
    "        data.loc[i, 'Corr type'] = 'high'\n",
    "    "
   ]
  },
  {
   "cell_type": "code",
   "execution_count": 20,
   "metadata": {},
   "outputs": [
    {
     "data": {
      "text/plain": [
       "<AxesSubplot: xlabel='Number of atr', ylabel='Corr distance'>"
      ]
     },
     "execution_count": 20,
     "metadata": {},
     "output_type": "execute_result"
    },
    {
     "data": {
      "image/png": "[encoded data removed]",
      "text/plain": [
       "<Figure size 432x288 with 1 Axes>"
      ]
     },
     "metadata": {
      "needs_background": "light"
     },
     "output_type": "display_data"
    }
   ],
   "source": [
    "sns.lineplot(x='Number of atr', y='Corr distance', hue='Corr type', data=data)"
   ]
  },
  {
   "cell_type": "code",
   "execution_count": 21,
   "metadata": {},
   "outputs": [
    {
     "data": {
      "text/plain": [
       "<AxesSubplot: xlabel='Number of atr', ylabel='Deviation_assort'>"
      ]
     },
     "execution_count": 21,
     "metadata": {},
     "output_type": "execute_result"
    },
    {
     "data": {
      "image/png": "[encoded data removed]",
      "text/plain": [
       "<Figure size 432x288 with 1 Axes>"
      ]
     },
     "metadata": {
      "needs_background": "light"
     },
     "output_type": "display_data"
    }
   ],
   "source": [
    "sns.lineplot(x='Number of atr', y='Deviation_assort', hue='Corr type', data=data)"
   ]
  },
  {
   "cell_type": "code",
   "execution_count": 36,
   "metadata": {},
   "outputs": [
    {
     "data": {
      "text/plain": [
       "True"
      ]
     },
     "execution_count": 36,
     "metadata": {},
     "output_type": "execute_result"
    }
   ],
   "source": [
    "bn = ContinuousBN()\n",
    "bn.load('results/paper_cec/0 8 0.05 0.9 low 0 exp2.json.json')"
   ]
  },
  {
   "cell_type": "code",
   "execution_count": 37,
   "metadata": {},
   "outputs": [
    {
     "name": "stderr",
     "output_type": "stream",
     "text": [
      "100%|██████████| 1000/1000 [00:00<00:00, 2593.65it/s]\n"
     ]
    }
   ],
   "source": [
    "sample = bn.sample(1000)"
   ]
  },
  {
   "cell_type": "code",
   "execution_count": 38,
   "metadata": {},
   "outputs": [
    {
     "data": {
      "text/plain": [
       "<AxesSubplot: >"
      ]
     },
     "execution_count": 38,
     "metadata": {},
     "output_type": "execute_result"
    },
    {
     "data": {
      "image/png": "[encoded data removed]",
      "text/plain": [
       "<Figure size 432x288 with 2 Axes>"
      ]
     },
     "metadata": {
      "needs_background": "light"
     },
     "output_type": "display_data"
    }
   ],
   "source": [
    "sns.heatmap(sample.corr())"
   ]
  }
 ],
 "metadata": {
  "kernelspec": {
   "display_name": "icebnpredict",
   "language": "python",
   "name": "python3"
  },
  "language_info": {
   "codemirror_mode": {
    "name": "ipython",
    "version": 3
   },
   "file_extension": ".py",
   "mimetype": "text/x-python",
   "name": "python",
   "nbconvert_exporter": "python",
   "pygments_lexer": "ipython3",
   "version": "3.9.11"
  }
 },
 "nbformat": 4,
 "nbformat_minor": 2
}
