{
 "cells": [
  {
   "cell_type": "code",
   "execution_count": 27,
   "metadata": {},
   "outputs": [],
   "source": [
    "import pandas as pd\n",
    "import ast\n",
    "from scipy.spatial import distance\n",
    "import seaborn as sns\n",
    "from bamt.networks.continuous_bn import ContinuousBN\n",
    "import numpy as np"
   ]
  },
  {
   "cell_type": "code",
   "execution_count": 39,
   "metadata": {},
   "outputs": [
    {
     "data": {
      "text/html": [
       "<div>\n",
       "<style scoped>\n",
       "    .dataframe tbody tr th:only-of-type {\n",
       "        vertical-align: middle;\n",
       "    }\n",
       "\n",
       "    .dataframe tbody tr th {\n",
       "        vertical-align: top;\n",
       "    }\n",
       "\n",
       "    .dataframe thead th {\n",
       "        text-align: right;\n",
       "    }\n",
       "</style>\n",
       "<table border=\"1\" class=\"dataframe\">\n",
       "  <thead>\n",
       "    <tr style=\"text-align: right;\">\n",
       "      <th></th>\n",
       "      <th>Number of atr</th>\n",
       "      <th>P_edge</th>\n",
       "      <th>Target assort</th>\n",
       "      <th>Target correlation</th>\n",
       "      <th>Calculated_corr</th>\n",
       "      <th>Time</th>\n",
       "      <th>Deviation_assort</th>\n",
       "    </tr>\n",
       "  </thead>\n",
       "  <tbody>\n",
       "    <tr>\n",
       "      <th>0</th>\n",
       "      <td>5</td>\n",
       "      <td>0.05</td>\n",
       "      <td>0.1</td>\n",
       "      <td>[0.13647562243052547, 0.039720890668049236, 0....</td>\n",
       "      <td>[0.033436564075273255, 0.1076543501518243, 0.0...</td>\n",
       "      <td>148</td>\n",
       "      <td>0.0</td>\n",
       "    </tr>\n",
       "    <tr>\n",
       "      <th>1</th>\n",
       "      <td>5</td>\n",
       "      <td>0.05</td>\n",
       "      <td>0.9</td>\n",
       "      <td>[0.13647562243052547, 0.039720890668049236, 0....</td>\n",
       "      <td>[0.1831192212290675, 0.0951461962242151, 0.282...</td>\n",
       "      <td>98</td>\n",
       "      <td>0.1</td>\n",
       "    </tr>\n",
       "    <tr>\n",
       "      <th>2</th>\n",
       "      <td>5</td>\n",
       "      <td>0.05</td>\n",
       "      <td>0.9</td>\n",
       "      <td>[0.13647562243052547, 0.039720890668049236, 0....</td>\n",
       "      <td>[0.3576458122725303, 0.10705623850456092, 0.00...</td>\n",
       "      <td>98</td>\n",
       "      <td>0.1</td>\n",
       "    </tr>\n",
       "    <tr>\n",
       "      <th>3</th>\n",
       "      <td>5</td>\n",
       "      <td>0.05</td>\n",
       "      <td>0.9</td>\n",
       "      <td>[0.13647562243052547, 0.039720890668049236, 0....</td>\n",
       "      <td>[0.1586521803748624, 0.034334250379181155, 0.0...</td>\n",
       "      <td>98</td>\n",
       "      <td>0.4</td>\n",
       "    </tr>\n",
       "    <tr>\n",
       "      <th>4</th>\n",
       "      <td>5</td>\n",
       "      <td>0.05</td>\n",
       "      <td>0.1</td>\n",
       "      <td>[0.7671841263228674, 0.8071161103762894, 0.720...</td>\n",
       "      <td>[0.6857881529733174, 0.84856192125948, 0.72664...</td>\n",
       "      <td>281</td>\n",
       "      <td>0.0</td>\n",
       "    </tr>\n",
       "    <tr>\n",
       "      <th>...</th>\n",
       "      <td>...</td>\n",
       "      <td>...</td>\n",
       "      <td>...</td>\n",
       "      <td>...</td>\n",
       "      <td>...</td>\n",
       "      <td>...</td>\n",
       "      <td>...</td>\n",
       "    </tr>\n",
       "    <tr>\n",
       "      <th>78</th>\n",
       "      <td>5</td>\n",
       "      <td>0.05</td>\n",
       "      <td>0.9</td>\n",
       "      <td>[0.1056554622985425, 0.09664947313395872, 0.21...</td>\n",
       "      <td>[0.1608018568616098, 0.10961281358901899, 0.08...</td>\n",
       "      <td>200</td>\n",
       "      <td>0.0</td>\n",
       "    </tr>\n",
       "    <tr>\n",
       "      <th>79</th>\n",
       "      <td>5</td>\n",
       "      <td>0.05</td>\n",
       "      <td>0.9</td>\n",
       "      <td>[0.1056554622985425, 0.09664947313395872, 0.21...</td>\n",
       "      <td>[0.27146244805057534, -0.013006891384083783, 0...</td>\n",
       "      <td>200</td>\n",
       "      <td>0.1</td>\n",
       "    </tr>\n",
       "    <tr>\n",
       "      <th>80</th>\n",
       "      <td>5</td>\n",
       "      <td>0.05</td>\n",
       "      <td>0.9</td>\n",
       "      <td>[0.1056554622985425, 0.09664947313395872, 0.21...</td>\n",
       "      <td>[0.24685475660777012, 0.07159142750039009, 0.2...</td>\n",
       "      <td>200</td>\n",
       "      <td>0.5</td>\n",
       "    </tr>\n",
       "    <tr>\n",
       "      <th>81</th>\n",
       "      <td>5</td>\n",
       "      <td>0.05</td>\n",
       "      <td>0.1</td>\n",
       "      <td>[0.8634423676353667, 0.706794907590958, 0.7387...</td>\n",
       "      <td>[0.8785690731370276, 0.7600597759928203, 0.716...</td>\n",
       "      <td>266</td>\n",
       "      <td>0.0</td>\n",
       "    </tr>\n",
       "    <tr>\n",
       "      <th>82</th>\n",
       "      <td>5</td>\n",
       "      <td>0.05</td>\n",
       "      <td>0.1</td>\n",
       "      <td>[0.8634423676353667, 0.706794907590958, 0.7387...</td>\n",
       "      <td>[0.7636617402027848, 0.44383537823425917, 0.69...</td>\n",
       "      <td>266</td>\n",
       "      <td>0.8</td>\n",
       "    </tr>\n",
       "  </tbody>\n",
       "</table>\n",
       "<p>83 rows × 7 columns</p>\n",
       "</div>"
      ],
      "text/plain": [
       "    Number of atr  P_edge  Target assort  \\\n",
       "0               5    0.05            0.1   \n",
       "1               5    0.05            0.9   \n",
       "2               5    0.05            0.9   \n",
       "3               5    0.05            0.9   \n",
       "4               5    0.05            0.1   \n",
       "..            ...     ...            ...   \n",
       "78              5    0.05            0.9   \n",
       "79              5    0.05            0.9   \n",
       "80              5    0.05            0.9   \n",
       "81              5    0.05            0.1   \n",
       "82              5    0.05            0.1   \n",
       "\n",
       "                                   Target correlation  \\\n",
       "0   [0.13647562243052547, 0.039720890668049236, 0....   \n",
       "1   [0.13647562243052547, 0.039720890668049236, 0....   \n",
       "2   [0.13647562243052547, 0.039720890668049236, 0....   \n",
       "3   [0.13647562243052547, 0.039720890668049236, 0....   \n",
       "4   [0.7671841263228674, 0.8071161103762894, 0.720...   \n",
       "..                                                ...   \n",
       "78  [0.1056554622985425, 0.09664947313395872, 0.21...   \n",
       "79  [0.1056554622985425, 0.09664947313395872, 0.21...   \n",
       "80  [0.1056554622985425, 0.09664947313395872, 0.21...   \n",
       "81  [0.8634423676353667, 0.706794907590958, 0.7387...   \n",
       "82  [0.8634423676353667, 0.706794907590958, 0.7387...   \n",
       "\n",
       "                                      Calculated_corr  Time  Deviation_assort  \n",
       "0   [0.033436564075273255, 0.1076543501518243, 0.0...   148               0.0  \n",
       "1   [0.1831192212290675, 0.0951461962242151, 0.282...    98               0.1  \n",
       "2   [0.3576458122725303, 0.10705623850456092, 0.00...    98               0.1  \n",
       "3   [0.1586521803748624, 0.034334250379181155, 0.0...    98               0.4  \n",
       "4   [0.6857881529733174, 0.84856192125948, 0.72664...   281               0.0  \n",
       "..                                                ...   ...               ...  \n",
       "78  [0.1608018568616098, 0.10961281358901899, 0.08...   200               0.0  \n",
       "79  [0.27146244805057534, -0.013006891384083783, 0...   200               0.1  \n",
       "80  [0.24685475660777012, 0.07159142750039009, 0.2...   200               0.5  \n",
       "81  [0.8785690731370276, 0.7600597759928203, 0.716...   266               0.0  \n",
       "82  [0.7636617402027848, 0.44383537823425917, 0.69...   266               0.8  \n",
       "\n",
       "[83 rows x 7 columns]"
      ]
     },
     "execution_count": 39,
     "metadata": {},
     "output_type": "execute_result"
    }
   ],
   "source": [
    "data = pd.read_csv('results/paper_cec/4 5 0.05 0.1 high exp2.csv')\n",
    "data"
   ]
  },
  {
   "cell_type": "code",
   "execution_count": 40,
   "metadata": {},
   "outputs": [],
   "source": [
    "for i in data.index:\n",
    "    origin_corr = ast.literal_eval(data.loc[i,'Target correlation'])\n",
    "    calculated_corr = ast.literal_eval(data.loc[i,'Calculated_corr'])\n",
    "    data.loc[i, 'Corr distance'] = distance.euclidean(origin_corr, calculated_corr)\n",
    "    "
   ]
  },
  {
   "cell_type": "code",
   "execution_count": null,
   "metadata": {},
   "outputs": [],
   "source": []
  },
  {
   "cell_type": "code",
   "execution_count": 41,
   "metadata": {},
   "outputs": [
    {
     "data": {
      "text/plain": [
       "<AxesSubplot: xlabel='Number of atr', ylabel='Corr distance'>"
      ]
     },
     "execution_count": 41,
     "metadata": {},
     "output_type": "execute_result"
    },
    {
     "data": {
      "image/png": "[encoded data removed]",
      "text/plain": [
       "<Figure size 432x288 with 1 Axes>"
      ]
     },
     "metadata": {
      "needs_background": "light"
     },
     "output_type": "display_data"
    }
   ],
   "source": [
    "sns.lineplot(x='Number of atr', y='Corr distance', hue='P_edge', data=data)"
   ]
  },
  {
   "cell_type": "code",
   "execution_count": 15,
   "metadata": {},
   "outputs": [
    {
     "data": {
      "text/plain": [
       "<AxesSubplot: xlabel='Number of atr', ylabel='Deviation_assort'>"
      ]
     },
     "execution_count": 15,
     "metadata": {},
     "output_type": "execute_result"
    },
    {
     "data": {
      "image/png": "[encoded data removed]",
      "text/plain": [
       "<Figure size 432x288 with 1 Axes>"
      ]
     },
     "metadata": {
      "needs_background": "light"
     },
     "output_type": "display_data"
    }
   ],
   "source": [
    "sns.lineplot(x='Number of atr', y='Deviation_assort', hue='Target assort', data=data)"
   ]
  },
  {
   "cell_type": "code",
   "execution_count": 29,
   "metadata": {},
   "outputs": [
    {
     "data": {
      "text/plain": [
       "True"
      ]
     },
     "execution_count": 29,
     "metadata": {},
     "output_type": "execute_result"
    }
   ],
   "source": [
    "bn = ContinuousBN()\n",
    "bn.load('results/4 10 0.1 0.9 exp2.json')"
   ]
  },
  {
   "cell_type": "code",
   "execution_count": 30,
   "metadata": {},
   "outputs": [
    {
     "name": "stderr",
     "output_type": "stream",
     "text": [
      "100%|██████████| 1000/1000 [00:00<00:00, 2232.32it/s]\n"
     ]
    }
   ],
   "source": [
    "sample = bn.sample(1000)"
   ]
  },
  {
   "cell_type": "code",
   "execution_count": 37,
   "metadata": {},
   "outputs": [
    {
     "data": {
      "text/plain": [
       "48.56478575632939"
      ]
     },
     "execution_count": 37,
     "metadata": {},
     "output_type": "execute_result"
    }
   ],
   "source": [
    "sample['A0'].var()"
   ]
  }
 ],
 "metadata": {
  "kernelspec": {
   "display_name": "icebnpredict",
   "language": "python",
   "name": "python3"
  },
  "language_info": {
   "codemirror_mode": {
    "name": "ipython",
    "version": 3
   },
   "file_extension": ".py",
   "mimetype": "text/x-python",
   "name": "python",
   "nbconvert_exporter": "python",
   "pygments_lexer": "ipython3",
   "version": "3.9.11"
  }
 },
 "nbformat": 4,
 "nbformat_minor": 2
}
